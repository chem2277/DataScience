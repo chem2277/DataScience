{
 "cells": [
  {
   "cell_type": "code",
   "execution_count": 2,
   "id": "d3397fd0-5dde-41e3-94c0-5ca141feff8a",
   "metadata": {},
   "outputs": [
    {
     "ename": "SyntaxError",
     "evalue": "invalid syntax (<ipython-input-2-add444c17cca>, line 5)",
     "output_type": "error",
     "traceback": [
      "\u001b[1;36m  File \u001b[1;32m\"<ipython-input-2-add444c17cca>\"\u001b[1;36m, line \u001b[1;32m5\u001b[0m\n\u001b[1;33m    print(Hello World)\u001b[0m\n\u001b[1;37m                ^\u001b[0m\n\u001b[1;31mSyntaxError\u001b[0m\u001b[1;31m:\u001b[0m invalid syntax\n"
     ]
    }
   ],
   "source": [
    "\"\"\"\n",
    "print() function\n",
    "\"\"\"\n",
    "\n",
    "print(Hello World)"
   ]
  },
  {
   "cell_type": "code",
   "execution_count": 13,
   "id": "dddd85eb-7ba0-4376-866e-9ae48bfb4cef",
   "metadata": {},
   "outputs": [
    {
     "name": "stdout",
     "output_type": "stream",
     "text": [
      "Hello World\n",
      "100\n",
      "3.14\n",
      "aespa is can't be 2. Do you understand?\n"
     ]
    }
   ],
   "source": [
    "print(\"Hello World\")\n",
    "print(100)\n",
    "\n",
    "pi = 3.14\n",
    "print(pi)\n",
    "\n",
    "nextlevel = \"aespa\"\n",
    "introduce = \" is can't be 2.\"\n",
    "print(nextlevel + introduce + \" Do you understand?\")"
   ]
  },
  {
   "cell_type": "code",
   "execution_count": 17,
   "id": "12e19709-d09b-410b-8835-d81bed1fcf50",
   "metadata": {},
   "outputs": [
    {
     "name": "stdout",
     "output_type": "stream",
     "text": [
      "False\n"
     ]
    }
   ],
   "source": [
    "mooyaho = False\n",
    "print(mooyaho)"
   ]
  },
  {
   "cell_type": "code",
   "execution_count": 20,
   "id": "ddbe5618-7298-4cd4-93b9-21a990023a99",
   "metadata": {},
   "outputs": [
    {
     "data": {
      "text/plain": [
       "float"
      ]
     },
     "execution_count": 20,
     "metadata": {},
     "output_type": "execute_result"
    }
   ],
   "source": [
    "\"\"\"\n",
    "Variables\n",
    "\"\"\"\n",
    "\n",
    "user_name = \"Haeun Lee\"\n",
    "user_id = 201837008\n",
    "user_email = 'chem2277@hs.ac.kr'\n",
    "is_teacher = False\n",
    "my_tall = 1.61\n",
    "type(my_tall)"
   ]
  },
  {
   "cell_type": "code",
   "execution_count": 22,
   "id": "fde1f676-83fe-4188-974f-37b33fb78994",
   "metadata": {},
   "outputs": [
    {
     "data": {
      "text/plain": [
       "str"
      ]
     },
     "execution_count": 22,
     "metadata": {},
     "output_type": "execute_result"
    }
   ],
   "source": [
    "# 본인을 표현할 수 있는 정보를 변수로 정의해보기\n",
    "\n",
    "korean_name = \"이하은\"\n",
    "my_tall = 1.61\n",
    "my_weight = '45kg'\n",
    "foot_size = 225\n",
    "favorite_song = \"Ariana Grande - POV\"\n",
    "favorite_group = \"BTS\"\n",
    "type(favorite_song)"
   ]
  },
  {
   "cell_type": "code",
   "execution_count": 39,
   "id": "4d37186d-7d2d-41df-a6eb-6ad0dc4f2fb0",
   "metadata": {},
   "outputs": [
    {
     "name": "stdout",
     "output_type": "stream",
     "text": [
      "x= 1\n",
      "x=없어\n",
      "Address of x : 140730905929520\n",
      "Address of x : 140730905929552\n"
     ]
    }
   ],
   "source": [
    "\"\"\"\n",
    "Variables : Assignment\n",
    "할당 : 변수에 어떤 값을 집어넣기\n",
    "\"\"\"\n",
    "\n",
    "x = 1\n",
    "print('x=', 1)\n",
    "print('x=' + '없어') #문자열의 경우만 + 사용, 나머지 변수는 , 사용\n",
    "print(\"Address of x :\", id(x))\n",
    "\n",
    "x=2\n",
    "print('Address of x :', id(x))"
   ]
  },
  {
   "cell_type": "code",
   "execution_count": 42,
   "id": "0cb32b04-8f3f-4aa9-a3e9-4d4fc46f9f57",
   "metadata": {},
   "outputs": [
    {
     "name": "stdout",
     "output_type": "stream",
     "text": [
      "기억해\n"
     ]
    }
   ],
   "source": [
    "\"\"\"\n",
    "변수 이름 정하기 : 알파벳 or 언더바(_)로 시작해야함 숫자로는 안됨\n",
    "\n",
    "변수용으로는 '소문자'가 암묵적 룰 ex) var, x, i, age 등\n",
    "상수용으로는 '대문자' ex) PI\n",
    "\n",
    "왜냐하면 변수는 바뀔 수 있는 값이지만 상수는 변하지 않는..\n",
    "\"\"\"\n",
    "\n",
    "print('기억해')"
   ]
  },
  {
   "cell_type": "code",
   "execution_count": 48,
   "id": "837ab889-6712-4bcc-afbe-1c3f37412511",
   "metadata": {},
   "outputs": [
    {
     "name": "stdout",
     "output_type": "stream",
     "text": [
      "How many laptops do you have? 3\n",
      "I have 1 piano\n"
     ]
    }
   ],
   "source": [
    "\"\"\"\n",
    "Data Types : Integers\n",
    "정수 = int\n",
    "\"\"\"\n",
    "\n",
    "#본인 집에 있는 사물의 개수를 정수 유형의 변수로 정의하시오.\n",
    "laptops = 3\n",
    "piano = 1\n",
    "broken_laptops = -1\n",
    "violin = 0\n",
    "\n",
    "print('How many laptops do you have?', laptops)\n",
    "print('I have', piano, 'piano')"
   ]
  },
  {
   "cell_type": "code",
   "execution_count": 2,
   "id": "e73867e0-17b1-4d79-91bf-5eae31dfc12f",
   "metadata": {},
   "outputs": [
    {
     "name": "stdout",
     "output_type": "stream",
     "text": [
      "What's your G.P.A? My G.P.A is 4.5\n"
     ]
    }
   ],
   "source": [
    "\"\"\"\n",
    "Data Types : Real Numbers\n",
    "실수\n",
    "- 부동소수점(float point) 방식\n",
    "여기서 '부'는 배가 위에 떠있는.. 그냥 유동소수점이라 생각하셈 \n",
    "ex) 1230000 = 1.23 x 10^6\n",
    "\"\"\"\n",
    "\n",
    "pi = 3.14\n",
    "kospi_index = 3125.76\n",
    "krw_usd_exchange = 1176.83\n",
    "\n",
    "#본인이 알고 있는 세 개의 실수를 변수로 표현\n",
    "\n",
    "kosdak_index = 1037.74\n",
    "nasdak_index = 15105.58\n",
    "my_GPA = 4.5\n",
    "\n",
    "print(\"What's your G.P.A?\" + \" My G.P.A is\", my_GPA)"
   ]
  },
  {
   "cell_type": "code",
   "execution_count": null,
   "id": "a01aa1ac-6f9f-4442-8d20-92ef0053c0dc",
   "metadata": {},
   "outputs": [],
   "source": [
    "#본인이 좋아하는 것들을 문자열의 변수로 선언\n",
    "\n",
    "favorite_food = 'pizza'\n",
    "favorite_lylics = '에스파는 나야, 둘이 될 수 없어'\n",
    "favorite_place = 'my home'"
   ]
  },
  {
   "cell_type": "code",
   "execution_count": 5,
   "id": "155a997d-c892-428e-ba4c-214263827552",
   "metadata": {},
   "outputs": [
    {
     "name": "stdout",
     "output_type": "stream",
     "text": [
      "40\n",
      "30\n",
      "250\n",
      "4.0\n",
      "1\n",
      "11232143047735167520986778024191471961778923714056054207061166373958693421056\n"
     ]
    }
   ],
   "source": [
    "result_1 = 10 + 30\n",
    "print(result_1)\n",
    "\n",
    "result_2 = 40 - 10\n",
    "print(result_2)\n",
    "\n",
    "result_3 = 50 * 5\n",
    "print(result_3)\n",
    "\n",
    "result_4 = 16 / 4\n",
    "print(result_4)\n",
    "\n",
    "result_5 = 25 % 2\n",
    "print(result_5)\n",
    "\n",
    "result_6 =238 ** 32\n",
    "print(result_6)"
   ]
  },
  {
   "cell_type": "code",
   "execution_count": 23,
   "id": "0fd4f90e-4c2c-4c16-ab9e-a317a6217dff",
   "metadata": {},
   "outputs": [
    {
     "name": "stdout",
     "output_type": "stream",
     "text": [
      "11\n",
      "11\n",
      "너는 내 삶에 다시 뜬 햇빛, 어린 시절 내 꿈들의 재림\n",
      "7\n",
      "1876480\n",
      "423.0\n",
      "731432701\n"
     ]
    },
    {
     "ename": "TypeError",
     "evalue": "unsupported operand type(s) for -=: 'str' and 'str'",
     "output_type": "error",
     "traceback": [
      "\u001b[1;31m---------------------------------------------------------------------------\u001b[0m",
      "\u001b[1;31mTypeError\u001b[0m                                 Traceback (most recent call last)",
      "\u001b[1;32m<ipython-input-23-dee6b54ce9a2>\u001b[0m in \u001b[0;36m<module>\u001b[1;34m\u001b[0m\n\u001b[0;32m     33\u001b[0m \u001b[1;33m\u001b[0m\u001b[0m\n\u001b[0;32m     34\u001b[0m \u001b[0mkkokkio\u001b[0m \u001b[1;33m=\u001b[0m \u001b[1;34m\"꼬끼오 꼬꼬꼬꼮\"\u001b[0m\u001b[1;33m\u001b[0m\u001b[1;33m\u001b[0m\u001b[0m\n\u001b[1;32m---> 35\u001b[1;33m \u001b[0mkkokkio\u001b[0m \u001b[1;33m-=\u001b[0m\u001b[1;34m\"음메~\"\u001b[0m\u001b[1;33m\u001b[0m\u001b[1;33m\u001b[0m\u001b[0m\n\u001b[0m\u001b[0;32m     36\u001b[0m \u001b[0mprint\u001b[0m\u001b[1;33m(\u001b[0m\u001b[0mkkokkio\u001b[0m\u001b[1;33m)\u001b[0m \u001b[1;31m#빼기, 나누기, 곱하기, 거듭제곱 등은 문자열에서 당연히 지원 안됨\u001b[0m\u001b[1;33m\u001b[0m\u001b[1;33m\u001b[0m\u001b[0m\n",
      "\u001b[1;31mTypeError\u001b[0m: unsupported operand type(s) for -=: 'str' and 'str'"
     ]
    }
   ],
   "source": [
    "\"\"\"\n",
    "Plus-Equals Operation +=\n",
    "어떤 값을 변수 값에 더하고, 해당 변수에 재할당\n",
    "\"\"\"\n",
    "\n",
    "counter = 1\n",
    "counter = counter + 10\n",
    "print(counter)\n",
    "\n",
    "counter = 1\n",
    "counter += 10\n",
    "print(counter)\n",
    "\n",
    "lylics = '너는 내 삶에 다시 뜬 햇빛, '\n",
    "lylics += '어린 시절 내 꿈들의 재림'\n",
    "print(lylics)\n",
    "\n",
    "counter = 10\n",
    "counter -= 3\n",
    "print (counter)\n",
    "\n",
    "number = 80\n",
    "number *= 23456\n",
    "print(number)\n",
    "\n",
    "number2 = 6345\n",
    "number2 /= 15\n",
    "print(number2)\n",
    "\n",
    "yaho = 901\n",
    "yaho **= 3\n",
    "print(yaho)\n",
    "\n",
    "kkokkio = \"꼬끼오 꼬꼬꼬꼮\"\n",
    "kkokkio -=\"음메~\"\n",
    "print(kkokkio) #빼기, 나누기, 곱하기, 거듭제곱 등은 문자열에서 당연히 지원 안됨"
   ]
  },
  {
   "cell_type": "code",
   "execution_count": null,
   "id": "2dd6884b-975b-4625-a608-e0904022e0ad",
   "metadata": {},
   "outputs": [],
   "source": []
  }
 ],
 "metadata": {
  "kernelspec": {
   "display_name": "Python 3",
   "language": "python",
   "name": "python3"
  },
  "language_info": {
   "codemirror_mode": {
    "name": "ipython",
    "version": 3
   },
   "file_extension": ".py",
   "mimetype": "text/x-python",
   "name": "python",
   "nbconvert_exporter": "python",
   "pygments_lexer": "ipython3",
   "version": "3.8.8"
  }
 },
 "nbformat": 4,
 "nbformat_minor": 5
}
