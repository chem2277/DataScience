{
 "cells": [
  {
   "cell_type": "code",
   "execution_count": 2,
   "id": "80c0f4ac-72c3-4caa-a9b0-33b1d4df4a4f",
   "metadata": {},
   "outputs": [
    {
     "name": "stdout",
     "output_type": "stream",
     "text": [
      "Requirement already satisfied: numpy in c:\\anaconda\\lib\\site-packages (1.20.1)\n",
      "Note: you may need to restart the kernel to use updated packages.\n"
     ]
    }
   ],
   "source": [
    "pip install numpy"
   ]
  },
  {
   "cell_type": "code",
   "execution_count": 4,
   "id": "818a2957-33e7-40b3-b06e-8abba94df047",
   "metadata": {},
   "outputs": [],
   "source": [
    "# 설치할 때 다른 파이썬 코드랑 섞어서 쓰면 안되고 주석도 처리하면 안됨"
   ]
  },
  {
   "cell_type": "code",
   "execution_count": 33,
   "id": "4c308069-b35f-45da-9701-248cf590ccc4",
   "metadata": {},
   "outputs": [],
   "source": [
    "import numpy as np"
   ]
  },
  {
   "cell_type": "code",
   "execution_count": 9,
   "id": "b1d7b22f-b1f3-42b8-8278-86d8b2f18ec5",
   "metadata": {},
   "outputs": [
    {
     "name": "stdout",
     "output_type": "stream",
     "text": [
      "[1 2 3 4 5 6]\n"
     ]
    }
   ],
   "source": [
    "#Creating a Nymoy Array\n",
    "my_list = [1, 2, 3, 4, 5, 6]\n",
    "\n",
    "my_array = np.array(my_list)\n",
    "print(my_array)"
   ]
  },
  {
   "cell_type": "code",
   "execution_count": 14,
   "id": "d6b848c9-9f09-4d11-a63a-84ee8a11eff6",
   "metadata": {},
   "outputs": [
    {
     "name": "stdout",
     "output_type": "stream",
     "text": [
      "<U11\n",
      "int32\n",
      "float64\n"
     ]
    }
   ],
   "source": [
    "#.dtype attribute\n",
    "\n",
    "a = np.array([1, \"A\", True])\n",
    "print(a.dtype)\n",
    "\n",
    "b = np.array([1, 2, 3,])\n",
    "print(b.dtype)\n",
    "\n",
    "c = np.array([1.1, 2.3])\n",
    "print(c.dtype)"
   ]
  },
  {
   "cell_type": "code",
   "execution_count": 24,
   "id": "8a1ddff2-ca23-4410-804a-1f04f32c6bf8",
   "metadata": {},
   "outputs": [
    {
     "name": "stdout",
     "output_type": "stream",
     "text": [
      "136\n",
      "144\n"
     ]
    }
   ],
   "source": [
    "#Size COmparison of ndarray and list objects\n",
    "\n",
    "from sys import getsizeof\n",
    "\n",
    "lst = [1, 2, 3, 4, 5, 6, 7, 8, 9, 10]\n",
    "print(getsizeof(lst)) \n",
    "\n",
    "arr = np.array([1, 2, 3, 4, 5, 6, 7, 8, 9, 10])\n",
    "print(getsizeof(arr)) \n",
    "\n",
    "\"\"\"정수값 자체는 4바이트지만 각 객체이기 때문에 객체 저장을 리스트가 저장해주어 메모리정보, 헤드정보도 다 저장되어 \n",
    "리스트 크기가 일정 수준 이상이면 어레이가 차지하는 것보다 리스트가 더 큼 그러므로 데이터 크기가 크면 어레이가 더 우수\n",
    "\"\"\"\n"
   ]
  },
  {
   "cell_type": "code",
   "execution_count": 26,
   "id": "bc3271dc-302e-49c2-8883-9e29facef71c",
   "metadata": {},
   "outputs": [
    {
     "ename": "TypeError",
     "evalue": "'int' object is not iterable",
     "output_type": "error",
     "traceback": [
      "\u001b[1;31m---------------------------------------------------------------------------\u001b[0m",
      "\u001b[1;31mTypeError\u001b[0m                                 Traceback (most recent call last)",
      "\u001b[1;32m<ipython-input-26-0b23b71b23f5>\u001b[0m in \u001b[0;36m<module>\u001b[1;34m\u001b[0m\n\u001b[0;32m      3\u001b[0m \u001b[0marr\u001b[0m \u001b[1;33m=\u001b[0m \u001b[0mnp\u001b[0m\u001b[1;33m.\u001b[0m\u001b[0marray\u001b[0m\u001b[1;33m(\u001b[0m\u001b[0mlst\u001b[0m\u001b[1;33m)\u001b[0m\u001b[1;33m\u001b[0m\u001b[1;33m\u001b[0m\u001b[0m\n\u001b[0;32m      4\u001b[0m \u001b[1;33m\u001b[0m\u001b[0m\n\u001b[1;32m----> 5\u001b[1;33m \u001b[0mlst\u001b[0m \u001b[1;33m+=\u001b[0m \u001b[1;36m1\u001b[0m \u001b[1;31m#리스트는 '리스트 컴프리헨션'을 이용해야 함\u001b[0m\u001b[1;33m\u001b[0m\u001b[1;33m\u001b[0m\u001b[0m\n\u001b[0m",
      "\u001b[1;31mTypeError\u001b[0m: 'int' object is not iterable"
     ]
    }
   ],
   "source": [
    "#operation and np.sqrt\n",
    "lst = [1, 2, 3]\n",
    "arr = np.array(lst)\n",
    "\n",
    "lst += 1 #리스트는 '리스트 컴프리헨션'을 이용해야 함"
   ]
  },
  {
   "cell_type": "code",
   "execution_count": 32,
   "id": "b8a05f83-9963-4245-b2db-8a0daf5b0672",
   "metadata": {},
   "outputs": [
    {
     "name": "stdout",
     "output_type": "stream",
     "text": [
      "[4 5 6]\n",
      "[2.         2.23606798 2.44948974]\n"
     ]
    }
   ],
   "source": [
    "lst = [1, 2, 3]\n",
    "arr = np.array(lst)\n",
    "\n",
    "arr +=3\n",
    "print(arr)\n",
    "\n",
    "arr2 = np.sqrt(arr)\n",
    "print(arr2) #리스트 컴프리헨션 보다 훨씬 편리\n"
   ]
  },
  {
   "cell_type": "code",
   "execution_count": 62,
   "id": "c3d2e4ab-1bcb-4482-ba1d-9001137d513f",
   "metadata": {},
   "outputs": [
    {
     "name": "stdout",
     "output_type": "stream",
     "text": [
      "[86.66666667 93.66666667 82.66666667 92.         90.66666667]\n",
      "93\n",
      "[94, 88]\n",
      "[[ 92  94  88  91  87]\n",
      " [ 79 100  86  93  91]\n",
      " [ 89  87  74  92  94]]\n",
      "89\n",
      "[91 93 92]\n"
     ]
    }
   ],
   "source": [
    "\"\"\"\n",
    "Exercise\n",
    "\"\"\"\n",
    "\n",
    "# 세 번의 시험에 대한 각 학생 별 점수를 Numpy 배열로 선언하라.\n",
    "\n",
    "test_1 = np.array([92, 94, 88, 91, 87])\n",
    "test_2 = np.array([79, 100, 86, 93, 91])\n",
    "test_3 = np.array([87, 85, 72, 90, 92])\n",
    "\n",
    "# 세 번째 시험 채점에 문제가 발견됨. 시험에 2점을 더해 새로운 배열 test_3_fixed에 저장하라.\n",
    "test_3_fixed = test_3 + 2 #원소단위의 연산 so easy\n",
    "\n",
    "\n",
    "# 학생 별 평균 시험 점수 계산 위해 학생 별 전체 시험 점수 총합을 total_grade에 저장\n",
    "\n",
    "total_grade = test_1 + test_2 + test_3_fixed\n",
    "\n",
    "# 학생 별 평균 시험 점수를 final_grade에 저장하라.\n",
    "final_grade = total_grade / 3\n",
    "\n",
    "print(final_grade)\n",
    "\n",
    "\n",
    "# Jeremy의 두 번째 시험점수를 jeremy_test_2에 저장하라\n",
    "# Manual 과 Adwoa의 첫 번째 시험점수를 manual_adwoa_test_1에 저장하라.\n",
    "\n",
    "jeremy_test_2 = test_2[3]\n",
    "print(jeremy_test_2)\n",
    "\n",
    "manual_adwoa_test_1 = [test_1[1], test_1[2]]\n",
    "print(manual_adwoa_test_1)\n",
    "\n",
    "\n",
    "# 전체 학생들의 점수를 2차원 배열 student_scores에 저장하세요\n",
    "student_scores = np.array([test_1, test_2, test_3_fixed])\n",
    "print(student_scores)\n",
    "\n",
    "# 2차원 배열로부터 Tanya의 세 번째 시험 점수를 가져와.\n",
    "print(student_scores[2][0]) # student_scores로 2차원 배열로 저장한 상태에서 세번째 시험은 두번째꺼고 타냐는 첫번째 학생이니가\n",
    "\n",
    "# studnt_scores로 부터 Cody의 전체 시험 점수를 구하시오\n",
    "print(student_scores[:, 3]) #콜론은 다 가져와!"
   ]
  },
  {
   "cell_type": "code",
   "execution_count": 76,
   "id": "49f4c270-fe41-4e13-acd6-5357b83f309a",
   "metadata": {},
   "outputs": [
    {
     "name": "stdout",
     "output_type": "stream",
     "text": [
      "[ 1  2  3  4  5  6  7  8  9 10]\n",
      "[ 6  7  8  9 10]\n",
      "[ 1  8  9 10]\n",
      "[6 7]\n"
     ]
    }
   ],
   "source": [
    "\"\"\"\n",
    "Logical Opreration with Arrays\n",
    "\"\"\"\n",
    "\n",
    "#masking\n",
    "arr = np.array([1, 2, 3, 4, 5, 6, 7, 8, 9, 10])\n",
    "lst > 5\n",
    "print(arr)\n",
    "\n",
    "# select using logical operations\n",
    "selected = arr[arr > 5]\n",
    "print(selected)\n",
    "\n",
    "selected_2 = arr[(arr > 7) | (arr < 2)] # '|'는 놀리합이므로 해당하는 거 다 출력\n",
    "print(selected_2)\n",
    "\n",
    "sel_3 = arr[(arr > 5) & (arr < 8)] # '&'는 논리곱으로 겹치는 부분만 출력\n",
    "\n",
    "print(sel_3)\n",
    "\n",
    "# combined logical operations"
   ]
  }
 ],
 "metadata": {
  "kernelspec": {
   "display_name": "Python 3",
   "language": "python",
   "name": "python3"
  },
  "language_info": {
   "codemirror_mode": {
    "name": "ipython",
    "version": 3
   },
   "file_extension": ".py",
   "mimetype": "text/x-python",
   "name": "python",
   "nbconvert_exporter": "python",
   "pygments_lexer": "ipython3",
   "version": "3.8.8"
  }
 },
 "nbformat": 4,
 "nbformat_minor": 5
}
