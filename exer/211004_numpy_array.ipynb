{
 "cells": [
  {
   "cell_type": "code",
   "execution_count": 7,
   "id": "1818b95d-7cf1-4fc1-adf0-3dd5913d1673",
   "metadata": {},
   "outputs": [
    {
     "name": "stdout",
     "output_type": "stream",
     "text": [
      "Requirement already satisfied: numpy in c:\\anaconda\\lib\\site-packages (1.20.1)Note: you may need to restart the kernel to use updated packages.\n",
      "\n"
     ]
    }
   ],
   "source": [
    "pip install numpy # 얘네 쓸 때마다 "
   ]
  },
  {
   "cell_type": "code",
   "execution_count": 16,
   "id": "b1b0806e-2ee6-4487-bb58-ed6129d8e2d1",
   "metadata": {},
   "outputs": [],
   "source": [
    "import numpy as np #불러와야 함.. 귀찮다.."
   ]
  },
  {
   "cell_type": "code",
   "execution_count": 17,
   "id": "849e9e8c-ca3f-4b09-85c9-b0f60716ffaa",
   "metadata": {},
   "outputs": [
    {
     "name": "stdout",
     "output_type": "stream",
     "text": [
      "[0 1 2]\n",
      "[2 3 4]\n",
      "[1 3 5 7]\n"
     ]
    }
   ],
   "source": [
    "\"\"\"\n",
    "Numpy Array Attributes\n",
    "넘파이의 배열 또한 객체로 존재함\n",
    "\"\"\"\n",
    "\n",
    "#Creating an array\n",
    "print(np.arange(3)) # stop\n",
    "print(np.arange(2, 5)) # strt, stop\n",
    "print(np.arange(1, 9, 2)) # start, stop, step"
   ]
  },
  {
   "cell_type": "code",
   "execution_count": 30,
   "id": "2ebdb911-bc13-4893-82db-c7e7fa060910",
   "metadata": {},
   "outputs": [
    {
     "name": "stdout",
     "output_type": "stream",
     "text": [
      "[7 3 9 9 1]\n",
      "[[38 69 41 19 68]\n",
      " [ 2 83 26 35 63]\n",
      " [99 76 74 55 12]]\n",
      "[[[2 6]\n",
      "  [7 9]]\n",
      "\n",
      " [[6 9]\n",
      "  [1 7]]\n",
      "\n",
      " [[0 2]\n",
      "  [3 4]]]\n"
     ]
    }
   ],
   "source": [
    "# Random number generator\n",
    "\n",
    "arr1 = np.random.randint(10, size = (5)) # 0 ~ 9 중에 다섯개 랜덤!\n",
    "print(arr1)\n",
    "\n",
    "arr2 = np.random.randint(100, size = (3, 5)) #size = (행, 열)\n",
    "print(arr2)\n",
    "\n",
    "arr3 = np.random.randint(10, size = (3, 2, 2)) # 행 두 개와 열 두 개짜리가 있는 것들이 세 개 생김\n",
    "print(arr3)"
   ]
  },
  {
   "cell_type": "code",
   "execution_count": 42,
   "id": "fc2464f2-dca7-48a5-a90d-5557512ba6ac",
   "metadata": {},
   "outputs": [
    {
     "name": "stdout",
     "output_type": "stream",
     "text": [
      "arr1.ndim 1\n",
      "arr2.ndim 2\n",
      "arr2.shape (3, 5)\n",
      "arr2.size 15\n",
      "arr2.dtype int32\n",
      "arr2.itemsize 4\n",
      "arr4.itemsize 8\n",
      "arr2.nbytes 60\n"
     ]
    }
   ],
   "source": [
    "# Attributes\n",
    "\n",
    "print(\"arr1.ndim\", arr1.ndim) #1차원 배열이므로 1이라 나오\n",
    "print(\"arr2.ndim\", arr2.ndim) #2차원 배열이므로 2라고 나옴\n",
    "\n",
    "print(\"arr2.shape\", arr2.shape) #배열 차원 크기 = 형상\n",
    "print(\"arr2.size\", arr2.size) #배열의 원소 개수\n",
    "print(\"arr2.dtype\", arr2.dtype) #데이터타입\n",
    "print(\"arr2.itemsize\", arr2.itemsize) #사이즈인데 정수는 4바이트니까 4\n",
    "\n",
    "\n",
    "arr4 = np.array([1.5, 2.3, 3.4])\n",
    "print(\"arr4.itemsize\", arr4.itemsize) #실수는 아이템 하나당 8바이트\n",
    "\n",
    "print(\"arr2.nbytes\", arr2.nbytes) #배열이 차지하는 전체 메모리 공간 60 왜냐 총15개고 하나당 4바이트니까!"
   ]
  },
  {
   "cell_type": "code",
   "execution_count": 50,
   "id": "27413d0f-5ad5-4813-8cfa-490a86437818",
   "metadata": {},
   "outputs": [
    {
     "name": "stdout",
     "output_type": "stream",
     "text": [
      "[0, 3, 6, 9]\n",
      "[1, 2, 3, 4]\n",
      "[0, 1, 2, 3, 4, 5, 6]\n",
      "[1, 3]\n"
     ]
    }
   ],
   "source": [
    "\"\"\"\n",
    "Array Slicing : 배열의 부분집합을 선택\n",
    "이거 중요하다고 하심\n",
    "\"\"\"\n",
    "\n",
    "arr = [0, 1, 2, 3, 4, 5, 6, 7, 8, 9]\n",
    "print(arr[::3]) #첨부터 끝까지 선택하는데, 3스텝이니까 두칸씩 건너뛰어\n",
    "print(arr[1:5]) #1부터 4까지\n",
    "print(arr[:7]) # 첨부터 6까지\n",
    "print(arr[1:5:2]) #0부터 4까지인데 1칸씩 건너뛰어!\n"
   ]
  },
  {
   "cell_type": "code",
   "execution_count": 79,
   "id": "bdfd760a-bef2-4b97-b615-46edd6c8b2c1",
   "metadata": {},
   "outputs": [
    {
     "name": "stdout",
     "output_type": "stream",
     "text": [
      "[[5 8 9 5]\n",
      " [0 0 1 7]\n",
      " [6 9 2 4]] \n",
      "\n",
      "[[5 8]\n",
      " [0 0]] \n",
      "\n",
      "[[-1  8]\n",
      " [ 0  0]] \n",
      "\n",
      "[[-1  8  9  5]\n",
      " [ 0  0  1  7]\n",
      " [ 6  9  2  4]]\n"
     ]
    }
   ],
   "source": [
    "\"\"\"\n",
    "Subarrays as Views\n",
    "배열 슬라이스는 복사본이 아닌 뷰\n",
    "- 배열 슬라이스 값을 변경 ==> 원본 배열 값도 변경됨 (리스트는 원본은 그대로이니 서로 다름)\n",
    "\"\"\"\n",
    "\n",
    "np.random.seed(1) #계속 동일한 값 나오게 함\n",
    "arr = np.random.randint(10, size = (3, 4))\n",
    "print(arr, '\\n')\n",
    "\n",
    "arr_sub = arr[:2, :2]\n",
    "print(arr_sub, '\\n')\n",
    "\n",
    "\n",
    "arr_sub[0, 0] = -1 #원래 5인 부분을 -1로 바꿈\n",
    "print(arr_sub, '\\n') #-1로 바뀜\n",
    "\n",
    "print(arr) #원본 배열 값도 -1로 바뀜!\n",
    "\n"
   ]
  },
  {
   "cell_type": "code",
   "execution_count": 82,
   "id": "98d65672-e3d8-44e6-83fd-0cbabf0d3e9a",
   "metadata": {},
   "outputs": [
    {
     "name": "stdout",
     "output_type": "stream",
     "text": [
      "[[5 8 9 5]\n",
      " [0 0 1 7]\n",
      " [6 9 2 4]] \n",
      "\n",
      "[[5 8]\n",
      " [0 0]] \n",
      "\n",
      "[[-1  8]\n",
      " [ 0  0]] \n",
      "\n",
      "[[5 8 9 5]\n",
      " [0 0 1 7]\n",
      " [6 9 2 4]]\n"
     ]
    }
   ],
   "source": [
    "#.copy()\n",
    "\n",
    "np.random.seed(1) #계속 동일한 값 나오게 함\n",
    "arr = np.random.randint(10, size = (3, 4))\n",
    "print(arr, '\\n')\n",
    "\n",
    "arr_sub = arr[:2, :2].copy() #복사본은 원본 배열을 유지 시켜줌\n",
    "print(arr_sub, '\\n')\n",
    "\n",
    "arr_sub[0, 0] = -1\n",
    "print(arr_sub, '\\n')\n",
    "\n",
    "print(arr) #복사본만 -1로 바뀌고 원본은 그대애앵로"
   ]
  },
  {
   "cell_type": "code",
   "execution_count": 85,
   "id": "d565fd87-bde3-4c4e-80bf-3a77533060d7",
   "metadata": {},
   "outputs": [
    {
     "name": "stdout",
     "output_type": "stream",
     "text": [
      "[1 2 3 4 5 6 7 8 9]\n",
      "[[1 2 3]\n",
      " [4 5 6]\n",
      " [7 8 9]]\n"
     ]
    }
   ],
   "source": [
    "\"\"\"\n",
    "Reshaping of Arrays\n",
    "\"\"\"\n",
    "\n",
    "arr = np.arange(1, 10)\n",
    "print(arr)\n",
    "\n",
    "grid = arr.reshape(3, 3) #배열 형상을 변경함 원래 일자로 주우욱 있던 걸 바꿀 수 있는거\n",
    "print(grid)\n",
    "\n"
   ]
  },
  {
   "cell_type": "code",
   "execution_count": 90,
   "id": "94e5b5c2-9dbb-4734-9cc9-6b77bfaf7a0f",
   "metadata": {},
   "outputs": [
    {
     "name": "stdout",
     "output_type": "stream",
     "text": [
      "[1 2 3]\n",
      "arr.ndim =  1\n",
      "arr.shape =  (3,)\n",
      "[[1 2 3]]\n",
      "arr.new.ndim =  2\n",
      "arr.new.shape =  (1, 3)\n",
      "[[1]\n",
      " [2]\n",
      " [3]]\n",
      "arr.new2.ndim =  2\n",
      "arr.new2.shape =  (3, 1)\n"
     ]
    }
   ],
   "source": [
    "#np.newaxis ==> 배열의 추가 차원\n",
    "\n",
    "arr = np.array([1, 2, 3])\n",
    "print(arr)\n",
    "print(\"arr.ndim = \", arr.ndim)\n",
    "print(\"arr.shape = \", arr.shape)\n",
    "\n",
    "arr_new = arr[np.newaxis, :] #newaxis를 어디에 넣느냐에 따라 쉐입이 달라짐 이건 1X3\n",
    "print(arr_new)\n",
    "print(\"arr.new.ndim = \", arr_new.ndim)\n",
    "print(\"arr.new.shape = \", arr_new.shape)\n",
    "\n",
    "\n",
    "arr_new2 = arr[:, np.newaxis] #newaxis를 어디에 넣느냐에 따라 쉐입이 달라짐 이건 3X1\n",
    "print(arr_new2)\n",
    "print(\"arr.new2.ndim = \", arr_new2.ndim)\n",
    "print(\"arr.new2.shape = \", arr_new2.shape)"
   ]
  },
  {
   "cell_type": "code",
   "execution_count": 96,
   "id": "9a67787e-8d21-45ba-ab2d-d76c49713de8",
   "metadata": {},
   "outputs": [
    {
     "name": "stdout",
     "output_type": "stream",
     "text": [
      "[1 2 3 4 5 6 7 8 9]\n",
      "[[1 2 3]\n",
      " [4 5 6]\n",
      " [7 8 9]]\n",
      "[1 2 3 4 5 6 7 8 9]\n"
     ]
    }
   ],
   "source": [
    "#np.concatanate() ==> 배열 연결 메소드\n",
    "\n",
    "arr_1 = np.array([1, 2, 3,])\n",
    "arr_2 = np.array([4, 5, 6])\n",
    "arr_3 = np.array([7, 8, 9])\n",
    "\n",
    "arr_total = np.concatenate([arr_1, arr_2, arr_3]) #배열을 차례로 붙여주\n",
    "print(arr_total)\n",
    "\n",
    "\n",
    "#np.vstack() : 종 방향으로 배열 연결\n",
    "\n",
    "arr_total = np.vstack([arr_1, arr_2, arr_3])\n",
    "print(arr_total)\n",
    "\n",
    "#np.hastack() : 횡 방향으로 배열 연결\n",
    "\n",
    "arr_total = np.hstack([arr_1, arr_2, arr_3])\n",
    "print(arr_total)"
   ]
  },
  {
   "cell_type": "code",
   "execution_count": 99,
   "id": "aae837c5-7a26-42b8-bcd8-3ce3fd9ef8f5",
   "metadata": {},
   "outputs": [
    {
     "name": "stdout",
     "output_type": "stream",
     "text": [
      "[1, 2, 3, 99, 99, 3, 2, 1]\n",
      "[1 2 3]\n",
      "[99 99]\n",
      "[3 2 1]\n",
      "[ 1  2  3 99]\n",
      "[99  3  2  1]\n"
     ]
    }
   ],
   "source": [
    "\"\"\"\n",
    "Array Splitting\n",
    "배열 분할\n",
    "\"\"\"\n",
    "\n",
    "arr = [1, 2, 3, 99, 99, 3, 2, 1]\n",
    "print(arr)\n",
    "\n",
    "arr_1, arr_2, arr_3 = np.split(arr, [3, 5]) #np.split(자르고자 하는 변수, [어디서 몇 개 자를지] )\n",
    "#0번째~2번째 자르고 3번째~4번째 자르고, 5번째~마지막 자르고\n",
    "\n",
    "print(arr_1)\n",
    "print(arr_2)\n",
    "print(arr_3)\n",
    "\n",
    "\n",
    "\n",
    "arr_4, arr_5 = np.split(arr, [4]) #0번째부터 3번째까지 자르고 4번째부터 마지막까지\n",
    "print(arr_4)\n",
    "print(arr_5)"
   ]
  }
 ],
 "metadata": {
  "kernelspec": {
   "display_name": "Python 3",
   "language": "python",
   "name": "python3"
  },
  "language_info": {
   "codemirror_mode": {
    "name": "ipython",
    "version": 3
   },
   "file_extension": ".py",
   "mimetype": "text/x-python",
   "name": "python",
   "nbconvert_exporter": "python",
   "pygments_lexer": "ipython3",
   "version": "3.8.8"
  }
 },
 "nbformat": 4,
 "nbformat_minor": 5
}
