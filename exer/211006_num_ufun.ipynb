{
 "cells": [
  {
   "cell_type": "code",
   "execution_count": 19,
   "id": "85fd91b9-5177-4e1b-8287-1a1723c124cb",
   "metadata": {},
   "outputs": [
    {
     "name": "stdout",
     "output_type": "stream",
     "text": [
      "Requirement already satisfied: numpy in c:\\anaconda\\lib\\site-packages (1.20.1)\n",
      "Note: you may need to restart the kernel to use updated packages.\n"
     ]
    }
   ],
   "source": [
    "pip install numpy"
   ]
  },
  {
   "cell_type": "code",
   "execution_count": 16,
   "id": "e1ee61a2-1df4-4dc8-947c-3b4d2114c620",
   "metadata": {},
   "outputs": [],
   "source": [
    "import numpy as np"
   ]
  },
  {
   "cell_type": "code",
   "execution_count": 32,
   "id": "42672db0-2408-4b49-8bd1-06e6ba65896a",
   "metadata": {},
   "outputs": [
    {
     "name": "stdout",
     "output_type": "stream",
     "text": [
      "[6 6 7 1 7]\n",
      "[ 1.66666667e-001 -1.52907204e+028  1.67982320e-321  2.20687563e-312\n",
      "  0.00000000e+000]\n"
     ]
    }
   ],
   "source": [
    "\"\"\"\n",
    "Computing reciprocals in loops\n",
    "역수를 계산하는 함수\n",
    "\"\"\"\n",
    "\n",
    "#Function for computing reciprocals using looping\n",
    "def compute_reciprocals(values):\n",
    "    output = np.empty(len(values))\n",
    "    for i in range(len(values)):\n",
    "        output[i] = 1.0 /values[i]\n",
    "        return output #리스트를 가져와서 그것의 역수를 구하는 것\n",
    "\n",
    "\n",
    "values= np.random.randint(1, 10, size = 5) #1부터 10까지의 랜덤 값 5개를 가져오게 됨\n",
    "print(values) #계속 랜덤 값이 계속 바뀌는 게 싫으면 values 위에 np.random.seed(0) 해놓으면 됨\n",
    "\n",
    "output = compute_reciprocals(values) #역수를 만들어주는 함수를 호출해서 거기에 우리가 만든 인자를 넣어줌\n",
    "print(output)\n"
   ]
  },
  {
   "cell_type": "code",
   "execution_count": 37,
   "id": "d320eb22-df31-41d7-bc80-a77ca6f55d55",
   "metadata": {},
   "outputs": [
    {
     "name": "stdout",
     "output_type": "stream",
     "text": [
      "[64 32 84 ... 24 18 50]\n",
      "64 µs ± 4.47 µs per loop (mean ± std. dev. of 7 runs, 10000 loops each)\n"
     ]
    }
   ],
   "source": [
    "\"\"\"\n",
    "Comparison : Loops vs ufuncs(vectorized)\n",
    "\"\"\"\n",
    "\n",
    "# looping on a big array\n",
    "big_array = np.random.randint(1, 100, size = 1000000) # 겁나 큰 난수 배열\n",
    "print(big_array)\n",
    "\n",
    "\n",
    "\n",
    "#magic function (e,g,m %timeit)\n",
    "%timeit compute_reciprocals(big_array) #특정 코드의 실행시간이 얼마나 걸리는지 체크하기 위하 기능이 %timeit => 주피터에서만 돌아감"
   ]
  },
  {
   "cell_type": "code",
   "execution_count": 41,
   "id": "7f048c31-4909-44ce-ba3e-fae36214a5d7",
   "metadata": {},
   "outputs": [
    {
     "name": "stdout",
     "output_type": "stream",
     "text": [
      "7.6 ms ± 312 µs per loop (mean ± std. dev. of 7 runs, 100 loops each)\n"
     ]
    }
   ],
   "source": [
    "#vectorized operations 벡터화 연산으로 해보기\n",
    "\n",
    "%timeit 1 / big_array #넘파이에서는 심플하게 하나의 연산식으로 표현 가능. 컴파일 계층에서 하기 때문에 훨씬 빠름.\n"
   ]
  },
  {
   "cell_type": "code",
   "execution_count": 51,
   "id": "f1669ac8-d6fd-4792-8b78-eeb2224f1f64",
   "metadata": {},
   "outputs": [
    {
     "name": "stdout",
     "output_type": "stream",
     "text": [
      "[5 8 9 5 0] [0 1 7 6 9]\n",
      "[ 3  6  7  3 -2]\n",
      "[ 3  7 14  9  7]\n",
      "[[2 4 5 2 4]\n",
      " [2 4 7 7 9]\n",
      " [1 7 0 6 9]]\n",
      "[[ 4 16 25  4 16]\n",
      " [ 4 16 49 49 81]\n",
      " [ 1 49  0 36 81]]\n",
      "[ 4 16 25  4 16]\n",
      "[ 4 16 49 49 81]\n",
      "[ 1 49  0 36 81]\n"
     ]
    }
   ],
   "source": [
    "\"\"\"\n",
    "numpy.ufunc\n",
    "넘파이 유니버셜 함수\n",
    "\"\"\"\n",
    "\n",
    "np.random.seed(1)\n",
    "arr1 = np.random.randint(10, size = 5)\n",
    "arr2 = np.random.randint(10, size = 5)\n",
    "print(arr1, arr2)\n",
    "\n",
    "arr1 = arr1 - 2 #첫번째 arr1에 대한 모든 원소에 2씩 빼줄 수 있는 so 간단\n",
    "print(arr1)\n",
    "\n",
    "arr3 = arr1 + arr2\n",
    "print(arr3)\n",
    "\n",
    "arr4 = np.random.randint(10, size=(3, 5)) #10안으로 3개행 5개열\n",
    "print(arr4)\n",
    "\n",
    "print(arr4**2) #arr4의 모든 원소에 제곱을 해주는 so easy\n",
    "\n",
    "for value in arr4: #value 안에 있는 4차원 배열 하나씩 꺼내와서\n",
    "    print(value**2) #코드 자체도 긴 건 아니지만 '벡터화 연산이 아니어서 느림!' 무조건 연산 커다란 거 하면 넘파이가 짱\n"
   ]
  },
  {
   "cell_type": "code",
   "execution_count": 56,
   "id": "46f53182-4617-448f-9f2b-53ab2b074c6c",
   "metadata": {},
   "outputs": [
    {
     "name": "stdout",
     "output_type": "stream",
     "text": [
      "[0 1 2 3]\n",
      "x + 5 = [5 6 7 8]\n",
      "x - 5 = [-5 -4 -3 -2]\n",
      "x * 2 = [0 2 4 6]\n",
      "x / 2 = [0.  0.5 1.  1.5]\n",
      "x ** 2 = [0 1 4 9]\n",
      "x - 5 = [5 6 7 8]\n",
      "x * 2 = [-2 -1  0  1]\n",
      "x / 2 = [0 2 4 6]\n",
      "x ** 2 = [0 1 4 9]\n"
     ]
    }
   ],
   "source": [
    "\"\"\"\n",
    "UFuncs : Array Arithmetic\n",
    "\"\"\"\n",
    "\n",
    "# Basic arithmetic operations on an array\n",
    "\n",
    "x = np.arange(4) \n",
    "print(x) #0 부터 3까지 네 개 나옴\n",
    "print(\"x + 5 =\", x + 5) # 다 계산 됨\n",
    "print(\"x - 5 =\", x - 5)\n",
    "print(\"x * 2 =\", x * 2)\n",
    "print(\"x / 2 =\", x / 2)\n",
    "print(\"x ** 2 =\", x ** 2)\n",
    "\n",
    "# 내가 정확한 유니버설 function명을 통해 구현하고 싶으면 넘파이에서 제공해주는 함수명으로 호출해도 됨\n",
    "print(\"x - 5 =\", np.add(x, 5))\n",
    "print(\"x * 2 =\", np.subtract(x , 2))\n",
    "print(\"x / 2 =\", np.multiply(x , 2))\n",
    "print(\"x ** 2 =\", np.power(x, 2)) #넘파이 function으로 해도 똑같이 나옴\n"
   ]
  },
  {
   "cell_type": "code",
   "execution_count": 65,
   "id": "1e873389-115f-42ff-8489-cbe28c7ba054",
   "metadata": {},
   "outputs": [
    {
     "name": "stdout",
     "output_type": "stream",
     "text": [
      "[2 1 0 1 2]\n",
      "[5. 5. 2. 1.]\n"
     ]
    }
   ],
   "source": [
    "\"\"\"\n",
    "UFuncs : Absolute Value\n",
    "\n",
    "프로그램 랭귀지에서 기본으로 제공하는 함수 : built-in function\n",
    "\"\"\"\n",
    "\n",
    "# np.abs() : 절대값 함수 (파이썬에서 기본으로 제공하긴 하지만, 이건 벡터화 연산이라 빠름)\n",
    "x = np.array([-2, -1, 0, 1, 2])\n",
    "print(np.abs(x)) #절대값 구해줌\n",
    "\n",
    "\n",
    "y = np.array([3-4j, 4-3j, 2+0j, 0+1j]) #복소수\n",
    "print(np.abs(y)) #복소수의 절대값도 구해줌"
   ]
  },
  {
   "cell_type": "code",
   "execution_count": 73,
   "id": "4a28009c-7d2e-49cc-9b99-932c7f630df5",
   "metadata": {},
   "outputs": [
    {
     "name": "stdout",
     "output_type": "stream",
     "text": [
      "[  0.  25.  50.  75. 100.]\n"
     ]
    }
   ],
   "source": [
    " \"\"\"\n",
    " UFuncs : linspace()\n",
    " np.linspace(start, stop, num) : 선형 간격의 벡터를 생성해주는 유용한 메서드\n",
    " - 다양한 벡터/행렬 생성에 자주 사용\n",
    " \"\"\"\n",
    "\n",
    "x = np.linspace(0, 100, 5) #0부터 100 사이를 5구간으로 쪼개서, 쪼갠 구간의 기준점을 해당 배열의 원소로 할당\n",
    "print(x)\n"
   ]
  },
  {
   "cell_type": "code",
   "execution_count": 78,
   "id": "4d3dc3e9-9e09-466e-a9cc-7473cc1d2fb1",
   "metadata": {},
   "outputs": [
    {
     "name": "stdout",
     "output_type": "stream",
     "text": [
      "[0.         1.57079633 3.14159265]\n",
      "[0.0000000e+00 1.0000000e+00 1.2246468e-16]\n",
      "[ 1.000000e+00  6.123234e-17 -1.000000e+00]\n",
      "[ 0.00000000e+00  1.63312394e+16 -1.22464680e-16]\n"
     ]
    }
   ],
   "source": [
    "\"\"\"\n",
    "UFuncs : Trigonometric Functions \n",
    "삼각함수 : 데이터 과학에서 자주 사용되는 함수\n",
    "- np.sin() : 사인 함수\n",
    "- np.cos() : 코사인 함수\n",
    "- np.tan() : 타젠트 함수\n",
    "역삼각 함수 : np.arcsin(), np.arccos(), np.arctan()\n",
    "\"\"\"\n",
    "\n",
    "#각도를 원주율 파이를 기준으로 세구간으로 나누고 각도의 배열을 theta라고 해보자 \n",
    "theta = np.linspace(0, (np.pi), 3) #0부터 3.14까지 3구간으로 나누면 구간은?\n",
    "print(theta)\n",
    "\n",
    "print(np.sin(theta)) #각각의 쎼타 값에 대하여 사인 연산을 수행\n",
    "print(np.cos(theta))\n",
    "print(np.tan(theta))"
   ]
  },
  {
   "cell_type": "code",
   "execution_count": 80,
   "id": "cbdf041c-af0f-4aac-92f5-8205f4d31117",
   "metadata": {},
   "outputs": [
    {
     "data": {
      "text/plain": [
       "'\\nUFuncs : etc.\\n지수와 로그 : np.exp(), np.power(), np.log(), np.log10()\\n그 외 : 쌍곡선 삼각함수, 비트연산, 비교 연산자, 라디안 등\\nscipy.special : 고급 수치연산을 유니버설 함수 형태로 제공하는 패키지\\n- 감마함수, 가우스 적분, 보수/역수 등을 계산할 때... 쓰려면 설치해야 함\\n'"
      ]
     },
     "execution_count": 80,
     "metadata": {},
     "output_type": "execute_result"
    }
   ],
   "source": [
    "\"\"\"\n",
    "UFuncs : etc.\n",
    "지수와 로그 : np.exp(), np.power(), np.log(), np.log10()\n",
    "그 외 : 쌍곡선 삼각함수, 비트연산, 비교 연산자, 라디안 등\n",
    "scipy.special : 고급 수치연산을 유니버설 함수 형태로 제공하는 패키지\n",
    "- 감마함수, 가우스 적분, 보수/역수 등을 계산할 때... 쓰려면 설치해야 함\n",
    "\"\"\"\n"
   ]
  },
  {
   "cell_type": "code",
   "execution_count": 86,
   "id": "73db8ed2-1f68-448f-acb9-b09720153f1b",
   "metadata": {},
   "outputs": [
    {
     "name": "stdout",
     "output_type": "stream",
     "text": [
      "10\n",
      "24\n",
      "[ 1  3  6 10]\n",
      "[ 1  2  6 24]\n"
     ]
    }
   ],
   "source": [
    "\"\"\"\n",
    "UFuncs : Aggregation\n",
    "데이터의 기술 통계를 위한 집계 함수 제공\n",
    "reduce() : 배열을 특정 연산으로 축소\n",
    "accumlate() : 계산의 '중간 결과'들을 배열로 저장\n",
    "\"\"\"\n",
    "\n",
    "# 각각의 원소에 대해 연산을 수행한 결과들을 집계를 해서 정보를 제공해줘야 하는 경우\n",
    "\n",
    "x = np.arange(1, 5)\n",
    "aggr = np.add.reduce(x)\n",
    "print(aggr) #1부터 4까지로 나온 값을 다 더해줌\n",
    "\n",
    "aggr2 = np.multiply.reduce(x)\n",
    "print(aggr2) #1부터 4까지로 나온 값을 다 곱해줌\n",
    "\n",
    "\n",
    "# 결과가 누적되는 과정을 배열로 저장해서 리턴해줌\n",
    "accum = np.add.accumulate(x) #위에서 x에 넣어준 1부터 4까지의 값을 각각 더함. 1에 2 더하고 그럼 3 나오니까 거기에 3더하고 그럼 6나오는데 6에 4더하면 10 \n",
    "print(accum) \n",
    "\n",
    "accum = np.multiply.accumulate(x) #각 중간 결과들의 곱셈\n",
    "print(accum)"
   ]
  },
  {
   "cell_type": "code",
   "execution_count": 106,
   "id": "0a615927-c4a9-4964-b73b-142de6a1c475",
   "metadata": {},
   "outputs": [
    {
     "name": "stdout",
     "output_type": "stream",
     "text": [
      "[0.5507979  0.70814782 0.29090474 ... 0.93033748 0.80429816 0.47400579]\n",
      "sum =  500422.19897015305\n",
      "246 ms ± 82.5 ms per loop (mean ± std. dev. of 7 runs, 1 loop each)\n",
      "2.24 ms ± 206 µs per loop (mean ± std. dev. of 7 runs, 1000 loops each)\n"
     ]
    }
   ],
   "source": [
    "\"\"\"\n",
    "Summing the Values in an Array\n",
    "\"\"\"\n",
    "\n",
    "np.random.seed(3)\n",
    "arr = np.random.rand(1000000) #rand : 0~1 사이의 실수형태의 난수배열을 100만 가지 만듦\n",
    "print(arr)\n",
    "\n",
    "print(\"sum = \", np.sum(arr)) #100만 개의 총합을 빠르게 구해줌\n",
    "\n",
    "%timeit sum(arr) #기본 파이썬 속도\n",
    "%timeit np.sum(arr) #넘파이 속도 100배 빠름"
   ]
  },
  {
   "cell_type": "code",
   "execution_count": 122,
   "id": "8f5bef08-7520-4aaa-9361-5597848801c7",
   "metadata": {},
   "outputs": [
    {
     "name": "stdout",
     "output_type": "stream",
     "text": [
      "[0.5507979  0.70814782 0.29090474 ... 0.93033748 0.80429816 0.47400579]\n",
      "max =  0.9999996367889004\n",
      "min =  1.5496004267534502e-06\n",
      "mean =  0.500422198970153\n",
      "median =  0.5005659265960778\n",
      "False\n",
      "True\n"
     ]
    }
   ],
   "source": [
    "#Other aggr. functions\n",
    "\n",
    "print(arr)\n",
    "print('max = ', np.max(arr)) #배열의 최댓값\n",
    "print('min = ', np.min(arr)) #최솟값\n",
    "print('mean = ', np.mean(arr)) #평균값\n",
    "print('median = ', np.median(arr)) #중앙값\n",
    "#print('percentile = ', np.percentile(arr), 10) #하위 10프로의 원소\n",
    "\n",
    "print(np.any(arr>1)) #참을 만족하는 원소가 있는지\n",
    "print(np.all(arr>0)) #모든 원소들이 참을 만족하는지"
   ]
  },
  {
   "cell_type": "code",
   "execution_count": 126,
   "id": "11a62a51-3d12-44a9-acd4-6a7b5d5d1d85",
   "metadata": {},
   "outputs": [
    {
     "name": "stdout",
     "output_type": "stream",
     "text": [
      "[[3 6 6 0]\n",
      " [9 8 4 7]\n",
      " [0 0 7 1]]\n",
      "[12 14 17  8]\n",
      "[15 28  8]\n"
     ]
    }
   ],
   "source": [
    "\"\"\"\n",
    "Multi Dimensional Aggregates\n",
    "다차원 집계 : 특정 차원을 기준으로 집계\n",
    "- axis 속성 : 0이면 row(행) 값 아래로 쫙 더해주고, 1이면 colum(열) 값 쫙 더해주고\n",
    "\"\"\"\n",
    "\n",
    "np.random.seed(5)\n",
    "mult = np.random.randint(10, size=(3, 4))\n",
    "print(mult)\n",
    "print(np.sum(mult, axis = 0)) # 세로로 더한 값\n",
    "\n",
    "print(np.sum(mult, axis = 1)) #가로로 더한 값\n"
   ]
  }
 ],
 "metadata": {
  "kernelspec": {
   "display_name": "Python 3",
   "language": "python",
   "name": "python3"
  },
  "language_info": {
   "codemirror_mode": {
    "name": "ipython",
    "version": 3
   },
   "file_extension": ".py",
   "mimetype": "text/x-python",
   "name": "python",
   "nbconvert_exporter": "python",
   "pygments_lexer": "ipython3",
   "version": "3.8.8"
  }
 },
 "nbformat": 4,
 "nbformat_minor": 5
}
