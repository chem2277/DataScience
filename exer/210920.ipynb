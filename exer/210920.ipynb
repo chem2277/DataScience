{
 "cells": [
  {
   "cell_type": "code",
   "execution_count": 1,
   "id": "bf3bea34-9cc7-4bca-9be1-8b06bd739ccf",
   "metadata": {},
   "outputs": [
    {
     "name": "stdout",
     "output_type": "stream",
     "text": [
      "[2, 3, 5, 7, 11, 2]\n",
      "[]\n"
     ]
    }
   ],
   "source": [
    "\"\"\"\n",
    "리스트 : 순서를 가진 데이터들의 집합\n",
    "- 리스트 데이터(아이템) : 대괄호 []안의 콤마, 를 통해 구분됨\n",
    "- 아이템 중복 허용\n",
    "- 리스트 객체 초기화 : list = []\n",
    "- 여러 데이터 타입의 아이템 포함 가능\n",
    "\"\"\"\n",
    "\n",
    "primes = [2, 3, 5, 7, 11, 2] #똑같은 2를 넣어도, 리스트는 중복 허용\n",
    "print(primes)\n",
    "\n",
    "empty_list = []\n",
    "print(empty_list)"
   ]
  },
  {
   "cell_type": "code",
   "execution_count": 11,
   "id": "fa4f2c62-aefd-4497-b59d-6dff6a2b4d0f",
   "metadata": {},
   "outputs": [
    {
     "ename": "TypeError",
     "evalue": "'list' object is not callable",
     "output_type": "error",
     "traceback": [
      "\u001b[1;31m---------------------------------------------------------------------------\u001b[0m",
      "\u001b[1;31mTypeError\u001b[0m                                 Traceback (most recent call last)",
      "\u001b[1;32m<ipython-input-11-d15d65f79869>\u001b[0m in \u001b[0;36m<module>\u001b[1;34m\u001b[0m\n\u001b[0;32m      7\u001b[0m \u001b[1;33m\u001b[0m\u001b[0m\n\u001b[0;32m      8\u001b[0m \u001b[0mlist_of_lists\u001b[0m \u001b[1;33m=\u001b[0m \u001b[1;33m[\u001b[0m\u001b[1;33m[\u001b[0m\u001b[1;34m'a'\u001b[0m\u001b[1;33m,\u001b[0m \u001b[1;36m1\u001b[0m\u001b[1;33m]\u001b[0m\u001b[1;33m,\u001b[0m \u001b[1;33m[\u001b[0m\u001b[1;34m'b'\u001b[0m\u001b[1;33m,\u001b[0m \u001b[1;36m2\u001b[0m\u001b[1;33m]\u001b[0m\u001b[1;33m]\u001b[0m\u001b[1;33m\u001b[0m\u001b[1;33m\u001b[0m\u001b[0m\n\u001b[1;32m----> 9\u001b[1;33m \u001b[0mprint\u001b[0m\u001b[1;33m(\u001b[0m\u001b[0mlist_of_lists\u001b[0m\u001b[1;33m)\u001b[0m\u001b[1;33m\u001b[0m\u001b[1;33m\u001b[0m\u001b[0m\n\u001b[0m",
      "\u001b[1;31mTypeError\u001b[0m: 'list' object is not callable"
     ]
    }
   ],
   "source": [
    "\"\"\"\n",
    "Multiple different edata types\n",
    "\"\"\"\n",
    "\n",
    "mixed =['Jennie', 1, 1.4, True]\n",
    "print = (mixed)\n",
    "\n",
    "list_of_lists = [['a', 1], ['b', 2]]\n",
    "print(list_of_lists)"
   ]
  },
  {
   "cell_type": "code",
   "execution_count": 6,
   "id": "dea4f29f-e988-4141-b177-4a44c14c9798",
   "metadata": {},
   "outputs": [
    {
     "ename": "TypeError",
     "evalue": "'list' object is not callable",
     "output_type": "error",
     "traceback": [
      "\u001b[1;31m---------------------------------------------------------------------------\u001b[0m",
      "\u001b[1;31mTypeError\u001b[0m                                 Traceback (most recent call last)",
      "\u001b[1;32m<ipython-input-6-2290b4dbf384>\u001b[0m in \u001b[0;36m<module>\u001b[1;34m\u001b[0m\n\u001b[0;32m      7\u001b[0m \u001b[1;33m\u001b[0m\u001b[0m\n\u001b[0;32m      8\u001b[0m \u001b[0mnames\u001b[0m \u001b[1;33m=\u001b[0m \u001b[1;33m[\u001b[0m\u001b[1;34m'Roger'\u001b[0m\u001b[1;33m,\u001b[0m \u001b[1;34m'Rafael'\u001b[0m\u001b[1;33m,\u001b[0m \u001b[1;34m'Andy'\u001b[0m\u001b[1;33m]\u001b[0m\u001b[1;33m\u001b[0m\u001b[1;33m\u001b[0m\u001b[0m\n\u001b[1;32m----> 9\u001b[1;33m \u001b[0mprint\u001b[0m\u001b[1;33m(\u001b[0m\u001b[0mnames\u001b[0m\u001b[1;33m[\u001b[0m\u001b[1;36m0\u001b[0m\u001b[1;33m]\u001b[0m\u001b[1;33m)\u001b[0m\u001b[1;33m\u001b[0m\u001b[1;33m\u001b[0m\u001b[0m\n\u001b[0m\u001b[0;32m     10\u001b[0m \u001b[0mprint\u001b[0m\u001b[1;33m(\u001b[0m\u001b[0mnames\u001b[0m\u001b[1;33m[\u001b[0m\u001b[1;36m1\u001b[0m\u001b[1;33m]\u001b[0m\u001b[1;33m)\u001b[0m\u001b[1;33m\u001b[0m\u001b[1;33m\u001b[0m\u001b[0m\n\u001b[0;32m     11\u001b[0m \u001b[0mprint\u001b[0m\u001b[1;33m(\u001b[0m\u001b[0mnames\u001b[0m\u001b[1;33m[\u001b[0m\u001b[1;36m2\u001b[0m\u001b[1;33m]\u001b[0m\u001b[1;33m)\u001b[0m\u001b[1;33m\u001b[0m\u001b[1;33m\u001b[0m\u001b[0m\n",
      "\u001b[1;31mTypeError\u001b[0m: 'list' object is not callable"
     ]
    }
   ],
   "source": [
    "\"\"\"\n",
    "인덱스 : 리스트의 특정 아이템 위치를 나타내는 정수\n",
    "- list[index] : 인덱스를 사용해 리스트 내의 특정 아이템에 접근\n",
    "- zero-indexing : 0은 리스트의 첫 아이템\n",
    "- 음수 인덱싱 : 리스트 마지막 아이템을 기준 (-1, -2, -3...)\n",
    "\"\"\"\n",
    "\n",
    "names = ['Roger', 'Rafael', 'Andy']\n",
    "print(names[0])\n",
    "print(names[1])\n",
    "print(names[2])\n",
    "\n",
    "print(names[-1])\n",
    "print(names[-2])\n",
    "print(names[-3])"
   ]
  },
  {
   "cell_type": "code",
   "execution_count": 1,
   "id": "3d60c5b4-a5c8-489e-b6f0-a176c274c783",
   "metadata": {},
   "outputs": [
    {
     "name": "stdout",
     "output_type": "stream",
     "text": [
      "['장공관', '필헌관', '소통관']\n",
      "['생활관', '필헌관', '소통관']\n",
      "['만우관', '장공관', '필헌관', '소통관', '송암관', '늦봄관', '60주년기념관']\n"
     ]
    }
   ],
   "source": [
    "\"\"\"\n",
    "List Slicing : 특정 인덱스 범위에 해당하는 슬라이스를 구하는 연산\n",
    "슬라이스 : 리스트의 부분집합\n",
    "- list[start_index : end_index] 예 : tools[1:3]\n",
    "- 유의사항 : 슬라이싱 결과에 start_index는 포함되지만 end_index는 포함되지 않음\n",
    "\"\"\"\n",
    "\n",
    "hsu_buildings = ['만우관', '장공관', '필헌관', '소통관', '송암관', '늦봄관', '60주년기념관']\n",
    "buildings_slice = hsu_buildings[1:4] #1번인 장공관부터 나타나고, 4번은 슬라이싱 결과에 나타나지 않음\n",
    "buildings_oldest = hsu_buildings[:3] #start인덱스에 아무것도 넣지 않았기에 처음인 만우관부터 나옴\n",
    "buildings_hug = hsu_buildings[3:] #4번째부터 끝까지 다 나옴\n",
    "buildings_all = hsu_buildings[:] #처음부터 끝까지\n",
    "print(buildings_slice)\n",
    "\n",
    "buildings_slice[0] = '생활관' #building_slice의 0 즉, 첫 번째만 생활관으로 바뀔 뿐 원본 리스트에 영향x\n",
    "print(buildings_slice)\n",
    "print(hsu_buildings) #원본을 출력해 보면 원본은 그대로"
   ]
  },
  {
   "cell_type": "code",
   "execution_count": 3,
   "id": "802a0cf6-e0fe-4e75-9197-2ca66e07b106",
   "metadata": {},
   "outputs": [
    {
     "name": "stdout",
     "output_type": "stream",
     "text": [
      "중화비빔밥\n",
      "['해우리', '한식', '해우라면']\n"
     ]
    }
   ],
   "source": [
    "\"\"\"\n",
    "Multi-dimensional Lists\n",
    "\"\"\"\n",
    "\n",
    "restaurants = [['해우리', '한식', '고S'], ['짜장명가', '중식', '중화비빔밥'], ['찌개동아리', '한식', '제육전골']]\n",
    "print(restaurants[1][2]) #1인덱스의 2인덱스를 꺼내오는 것이니 중화비빔밥이 출력됨\n",
    "\n",
    "restaurants[0][2] = '해우라면' #고S가 해우라면으로 바뀜 \n",
    "print(restaurants[0])"
   ]
  },
  {
   "cell_type": "code",
   "execution_count": 4,
   "id": "fff81c98-aa61-4688-9479-a9ab8b5d9edc",
   "metadata": {},
   "outputs": [
    {
     "name": "stdout",
     "output_type": "stream",
     "text": [
      "['cake', 'cookie', 'bread', 'biscuit', 'tart']\n"
     ]
    }
   ],
   "source": [
    "\"\"\"\n",
    "Adding Lists Together 리스트 추가\n",
    "\"\"\"\n",
    "\n",
    "items_one = ['cake', 'cookie', 'bread']\n",
    "items_two = ['biscuit', 'tart']\n",
    "\n",
    "total_items = items_one + items_two #두 리스트가 붙어서 나옴\n",
    "print(total_items)"
   ]
  },
  {
   "cell_type": "code",
   "execution_count": 10,
   "id": "1a19f7e3-09b4-4134-bf2a-8a2894e7333e",
   "metadata": {},
   "outputs": [
    {
     "ename": "TypeError",
     "evalue": "'list' object is not callable",
     "output_type": "error",
     "traceback": [
      "\u001b[1;31m---------------------------------------------------------------------------\u001b[0m",
      "\u001b[1;31mTypeError\u001b[0m                                 Traceback (most recent call last)",
      "\u001b[1;32m<ipython-input-10-5f212e2f9cf4>\u001b[0m in \u001b[0;36m<module>\u001b[1;34m\u001b[0m\n\u001b[0;32m      8\u001b[0m \u001b[0msize\u001b[0m \u001b[1;33m=\u001b[0m \u001b[0mlen\u001b[0m\u001b[1;33m(\u001b[0m\u001b[0mknapsack\u001b[0m\u001b[1;33m)\u001b[0m \u001b[1;31m#5개니 5가 나옴\u001b[0m\u001b[1;33m\u001b[0m\u001b[1;33m\u001b[0m\u001b[0m\n\u001b[0;32m      9\u001b[0m \u001b[1;33m\u001b[0m\u001b[0m\n\u001b[1;32m---> 10\u001b[1;33m \u001b[0mprint\u001b[0m\u001b[1;33m(\u001b[0m\u001b[0msize\u001b[0m\u001b[1;33m)\u001b[0m\u001b[1;33m\u001b[0m\u001b[1;33m\u001b[0m\u001b[0m\n\u001b[0m\u001b[0;32m     11\u001b[0m \u001b[1;33m\u001b[0m\u001b[0m\n\u001b[0;32m     12\u001b[0m \u001b[1;33m\u001b[0m\u001b[0m\n",
      "\u001b[1;31mTypeError\u001b[0m: 'list' object is not callable"
     ]
    }
   ],
   "source": [
    "\"\"\"\n",
    "Useful Methods for Lists\n",
    "유용한 메소드\n",
    "\"\"\"\n",
    "\n",
    "#len() : 리스트 크기를 리턴\n",
    "knapsack = [2, 4, 6, 7, 8]\n",
    "size = len(knapsack) #5개니 5가 나옴\n",
    "\n",
    "print(size)\n",
    "\n",
    "\n",
    "#Count() : 특정 아이템의 개수를 리턴\n",
    "backpack = ['pencil', 'pen', 'notebook', 'pen', 'highlighter', 'pen']\n",
    "numPen = backpack.count('pen') #'pen'의 값만 구함\n",
    "\n",
    "print(numPen)\n",
    "\n",
    "\n",
    "#append() : 아이템을 리스트의 끝에 추가\n",
    "orders = ['daisies', 'periwinkle']\n",
    "orders.append('tulips') #orders에 튤립이 추가됨\n",
    "print(orders)\n",
    "\n",
    "\n",
    "#insert() : 아이템을 리스트의 '특정 위치'에 추가\n",
    "store_line = [\"Karla\", \"Maxium\", \"Martin\", \"Isabella\"]\n",
    "store_line.insert(2, 'Vikor') #2번이니까 세 번째 위치에 비코르가 들어감\n",
    "print(store_line)\n",
    "\n",
    "\n",
    "\n",
    "#pop(): '특정 위치'의 아이템을 삭제\n",
    "sw_subjects = [\"C Programing\", 'Caculus', 'Data Engineering', 'Data Science']\n",
    "sw_subjects.pop(2) #2번 위치 인덱스 삭제 즉, 세 번째에 있는 데이터 엔지니어링 삭제\n",
    "sw_subjects.pop() #괄호 안에 비어있으면 '맨 마지막 인덱스' 삭제\n",
    "\n",
    "print(sw_subjects)\n",
    "\n",
    "\n",
    "\n",
    "#remove() : 특정 아이템을 삭제\n",
    "bts_songs = ['fire', 'DNA', 'butter', 'Dynamite', 'My Universe']\n",
    "bts_songs.remove('fire') #fire이라는 곡만 삭제\n",
    "\n",
    "print(bts_songs)\n",
    "\n",
    "bts_songs.remove('Permission to Dance') #리스트에 없는 곡은 리스트에 없다고 에러뜸!\n",
    "print(bts_songs)\n",
    "\n",
    "\n",
    "\n",
    "\n",
    "#sort() : 리스트 내 아이템들을 정렬\n",
    "numbers = [4, 2, 1, 3]\n",
    "numbers.sort() #정렬하면 1234 순서대로 나옴\n",
    "print(numbers)\n",
    "\n",
    "last_names = ['박', '이', '김']\n",
    "last_names.sort() #자음 순서대로 나타남\n",
    "print(last_names)\n",
    "\n",
    "\n",
    "\n",
    "#sorted() : 정렬된 리스트를 리턴\n",
    "sorted_numbers = sorted(numbers) #다시 1234에서 4213으로 바뀜\n",
    "print(sorted_numbers)"
   ]
  },
  {
   "cell_type": "code",
   "execution_count": null,
   "id": "a7142049-ddbc-4021-a64b-08d972d30195",
   "metadata": {},
   "outputs": [],
   "source": []
  }
 ],
 "metadata": {
  "kernelspec": {
   "display_name": "Python 3",
   "language": "python",
   "name": "python3"
  },
  "language_info": {
   "codemirror_mode": {
    "name": "ipython",
    "version": 3
   },
   "file_extension": ".py",
   "mimetype": "text/x-python",
   "name": "python",
   "nbconvert_exporter": "python",
   "pygments_lexer": "ipython3",
   "version": "3.8.8"
  }
 },
 "nbformat": 4,
 "nbformat_minor": 5
}
