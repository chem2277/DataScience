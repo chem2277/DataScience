{
 "cells": [
  {
   "cell_type": "code",
   "execution_count": 2,
   "id": "8859bc92-bdf7-4d3b-aa2c-3b2ba0f494ee",
   "metadata": {},
   "outputs": [],
   "source": [
    "import numpy as np"
   ]
  },
  {
   "cell_type": "code",
   "execution_count": 13,
   "id": "580ea6ad-466e-4d1e-b148-79ddb92c451a",
   "metadata": {},
   "outputs": [
    {
     "name": "stdout",
     "output_type": "stream",
     "text": [
      "[[1. 1. 1.]\n",
      " [1. 1. 1.]\n",
      " [1. 1. 1.]]\n",
      "[0 1 2]\n",
      "[[1. 2. 3.]\n",
      " [1. 2. 3.]\n",
      " [1. 2. 3.]]\n"
     ]
    }
   ],
   "source": [
    "\"\"\"\n",
    "Introduction to Broadcasting\n",
    "\"\"\"\n",
    "\n",
    "#Broadcasting : 2D + 1D arrays\n",
    "a = np.ones((3, 3)) #1을 3행 3열로 배열\n",
    "b = np.arange(3) #0부터 2까지 3개.\n",
    "\n",
    "print(a)\n",
    "print(b)\n",
    "print(a + b) #b만 브로드 캐스팅 해서 a와 b의 차원을 맞춤"
   ]
  },
  {
   "cell_type": "code",
   "execution_count": 15,
   "id": "64ca0840-0752-4736-82df-c0656c8b5a1c",
   "metadata": {},
   "outputs": [
    {
     "name": "stdout",
     "output_type": "stream",
     "text": [
      "[[0 1 2]\n",
      " [1 2 3]\n",
      " [2 3 4]]\n"
     ]
    }
   ],
   "source": [
    "#Broadcast Both Arrays 둘 다 브로드캐스팅 해야하는 거\n",
    "a = np.arange(3)\n",
    "a = a[:, np.newaxis] #a가 행으로 되어 있던 걸 열로 바꿔줌\n",
    "b = np.arange(3)\n",
    "\n",
    "print(a+b)"
   ]
  },
  {
   "cell_type": "code",
   "execution_count": 20,
   "id": "adad6e51-8f12-43fe-8bd8-52bd471fe57f",
   "metadata": {},
   "outputs": [
    {
     "name": "stdout",
     "output_type": "stream",
     "text": [
      "[[0]\n",
      " [1]\n",
      " [2]]\n",
      "[[0 1 2]\n",
      " [1 2 3]\n",
      " [2 3 4]]\n"
     ]
    }
   ],
   "source": [
    "a = np.arange(3) #1행으로 0, 1, 2가 뜸\n",
    "a = a.reshape((3, 1)) #형상을 다시 3행 1열로 바꿔줌\n",
    "print(a)\n",
    "b = np.arange(3) #1행으로 0, 1, 2가 됨\n",
    "print(a+b) #a는 열이 늘어나고 b는 행이 늘어나고"
   ]
  },
  {
   "cell_type": "code",
   "execution_count": 52,
   "id": "a7030cdb-7601-4c6e-b997-53135b1053e0",
   "metadata": {},
   "outputs": [
    {
     "name": "stdout",
     "output_type": "stream",
     "text": [
      "[ True  True  True False False False]\n",
      "[False False False  True  True  True]\n",
      "[False False  True False False False]\n"
     ]
    }
   ],
   "source": [
    "\"\"\"\n",
    "Recap : Comparison Operators\n",
    "배열에 대한 비교 연산 => 부울 배열(boolean array)\n",
    "\"\"\"\n",
    "x = np.array([1, 2, 3, 4, 5, 6])\n",
    "print(x <= 3)\n",
    "print(x > 3)\n",
    "print(x == 3) "
   ]
  },
  {
   "cell_type": "code",
   "execution_count": 6,
   "id": "39768907-4263-4bd2-96c9-4683a65ae33d",
   "metadata": {},
   "outputs": [],
   "source": [
    "import pandas as pd"
   ]
  },
  {
   "cell_type": "code",
   "execution_count": 8,
   "id": "a0926e50-ce12-4698-9895-14052d0454d9",
   "metadata": {},
   "outputs": [
    {
     "ename": "FileNotFoundError",
     "evalue": "[Errno 2] No such file or directory: 'data/seattle2014.csv'",
     "output_type": "error",
     "traceback": [
      "\u001b[1;31m---------------------------------------------------------------------------\u001b[0m",
      "\u001b[1;31mFileNotFoundError\u001b[0m                         Traceback (most recent call last)",
      "\u001b[1;32m<ipython-input-8-de6d901d45e5>\u001b[0m in \u001b[0;36m<module>\u001b[1;34m\u001b[0m\n\u001b[0;32m      1\u001b[0m \u001b[1;31m#Use panda to extract rainfall inches as a Numoy array 강수량 히스토그램\u001b[0m\u001b[1;33m\u001b[0m\u001b[1;33m\u001b[0m\u001b[1;33m\u001b[0m\u001b[0m\n\u001b[0;32m      2\u001b[0m \u001b[1;33m\u001b[0m\u001b[0m\n\u001b[1;32m----> 3\u001b[1;33m \u001b[0mrainfall\u001b[0m \u001b[1;33m=\u001b[0m \u001b[0mpd\u001b[0m\u001b[1;33m.\u001b[0m\u001b[0mread_csv\u001b[0m\u001b[1;33m(\u001b[0m\u001b[1;34m'data/seattle2014.csv'\u001b[0m\u001b[1;33m)\u001b[0m\u001b[1;33m[\u001b[0m\u001b[1;34m'PRCP'\u001b[0m\u001b[1;33m]\u001b[0m\u001b[1;33m.\u001b[0m\u001b[0mvalues\u001b[0m\u001b[1;33m\u001b[0m\u001b[1;33m\u001b[0m\u001b[0m\n\u001b[0m\u001b[0;32m      4\u001b[0m \u001b[0minches\u001b[0m \u001b[1;33m=\u001b[0m \u001b[0mrainfall\u001b[0m \u001b[1;33m/\u001b[0m \u001b[1;36m254.0\u001b[0m \u001b[1;31m#1/10mm -> inches\u001b[0m\u001b[1;33m\u001b[0m\u001b[1;33m\u001b[0m\u001b[0m\n\u001b[0;32m      5\u001b[0m \u001b[0minches\u001b[0m\u001b[1;33m.\u001b[0m\u001b[0mshape\u001b[0m\u001b[1;33m\u001b[0m\u001b[1;33m\u001b[0m\u001b[0m\n",
      "\u001b[1;32mC:\\Anaconda\\lib\\site-packages\\pandas\\io\\parsers.py\u001b[0m in \u001b[0;36mread_csv\u001b[1;34m(filepath_or_buffer, sep, delimiter, header, names, index_col, usecols, squeeze, prefix, mangle_dupe_cols, dtype, engine, converters, true_values, false_values, skipinitialspace, skiprows, skipfooter, nrows, na_values, keep_default_na, na_filter, verbose, skip_blank_lines, parse_dates, infer_datetime_format, keep_date_col, date_parser, dayfirst, cache_dates, iterator, chunksize, compression, thousands, decimal, lineterminator, quotechar, quoting, doublequote, escapechar, comment, encoding, dialect, error_bad_lines, warn_bad_lines, delim_whitespace, low_memory, memory_map, float_precision, storage_options)\u001b[0m\n\u001b[0;32m    608\u001b[0m     \u001b[0mkwds\u001b[0m\u001b[1;33m.\u001b[0m\u001b[0mupdate\u001b[0m\u001b[1;33m(\u001b[0m\u001b[0mkwds_defaults\u001b[0m\u001b[1;33m)\u001b[0m\u001b[1;33m\u001b[0m\u001b[1;33m\u001b[0m\u001b[0m\n\u001b[0;32m    609\u001b[0m \u001b[1;33m\u001b[0m\u001b[0m\n\u001b[1;32m--> 610\u001b[1;33m     \u001b[1;32mreturn\u001b[0m \u001b[0m_read\u001b[0m\u001b[1;33m(\u001b[0m\u001b[0mfilepath_or_buffer\u001b[0m\u001b[1;33m,\u001b[0m \u001b[0mkwds\u001b[0m\u001b[1;33m)\u001b[0m\u001b[1;33m\u001b[0m\u001b[1;33m\u001b[0m\u001b[0m\n\u001b[0m\u001b[0;32m    611\u001b[0m \u001b[1;33m\u001b[0m\u001b[0m\n\u001b[0;32m    612\u001b[0m \u001b[1;33m\u001b[0m\u001b[0m\n",
      "\u001b[1;32mC:\\Anaconda\\lib\\site-packages\\pandas\\io\\parsers.py\u001b[0m in \u001b[0;36m_read\u001b[1;34m(filepath_or_buffer, kwds)\u001b[0m\n\u001b[0;32m    460\u001b[0m \u001b[1;33m\u001b[0m\u001b[0m\n\u001b[0;32m    461\u001b[0m     \u001b[1;31m# Create the parser.\u001b[0m\u001b[1;33m\u001b[0m\u001b[1;33m\u001b[0m\u001b[1;33m\u001b[0m\u001b[0m\n\u001b[1;32m--> 462\u001b[1;33m     \u001b[0mparser\u001b[0m \u001b[1;33m=\u001b[0m \u001b[0mTextFileReader\u001b[0m\u001b[1;33m(\u001b[0m\u001b[0mfilepath_or_buffer\u001b[0m\u001b[1;33m,\u001b[0m \u001b[1;33m**\u001b[0m\u001b[0mkwds\u001b[0m\u001b[1;33m)\u001b[0m\u001b[1;33m\u001b[0m\u001b[1;33m\u001b[0m\u001b[0m\n\u001b[0m\u001b[0;32m    463\u001b[0m \u001b[1;33m\u001b[0m\u001b[0m\n\u001b[0;32m    464\u001b[0m     \u001b[1;32mif\u001b[0m \u001b[0mchunksize\u001b[0m \u001b[1;32mor\u001b[0m \u001b[0miterator\u001b[0m\u001b[1;33m:\u001b[0m\u001b[1;33m\u001b[0m\u001b[1;33m\u001b[0m\u001b[0m\n",
      "\u001b[1;32mC:\\Anaconda\\lib\\site-packages\\pandas\\io\\parsers.py\u001b[0m in \u001b[0;36m__init__\u001b[1;34m(self, f, engine, **kwds)\u001b[0m\n\u001b[0;32m    817\u001b[0m             \u001b[0mself\u001b[0m\u001b[1;33m.\u001b[0m\u001b[0moptions\u001b[0m\u001b[1;33m[\u001b[0m\u001b[1;34m\"has_index_names\"\u001b[0m\u001b[1;33m]\u001b[0m \u001b[1;33m=\u001b[0m \u001b[0mkwds\u001b[0m\u001b[1;33m[\u001b[0m\u001b[1;34m\"has_index_names\"\u001b[0m\u001b[1;33m]\u001b[0m\u001b[1;33m\u001b[0m\u001b[1;33m\u001b[0m\u001b[0m\n\u001b[0;32m    818\u001b[0m \u001b[1;33m\u001b[0m\u001b[0m\n\u001b[1;32m--> 819\u001b[1;33m         \u001b[0mself\u001b[0m\u001b[1;33m.\u001b[0m\u001b[0m_engine\u001b[0m \u001b[1;33m=\u001b[0m \u001b[0mself\u001b[0m\u001b[1;33m.\u001b[0m\u001b[0m_make_engine\u001b[0m\u001b[1;33m(\u001b[0m\u001b[0mself\u001b[0m\u001b[1;33m.\u001b[0m\u001b[0mengine\u001b[0m\u001b[1;33m)\u001b[0m\u001b[1;33m\u001b[0m\u001b[1;33m\u001b[0m\u001b[0m\n\u001b[0m\u001b[0;32m    820\u001b[0m \u001b[1;33m\u001b[0m\u001b[0m\n\u001b[0;32m    821\u001b[0m     \u001b[1;32mdef\u001b[0m \u001b[0mclose\u001b[0m\u001b[1;33m(\u001b[0m\u001b[0mself\u001b[0m\u001b[1;33m)\u001b[0m\u001b[1;33m:\u001b[0m\u001b[1;33m\u001b[0m\u001b[1;33m\u001b[0m\u001b[0m\n",
      "\u001b[1;32mC:\\Anaconda\\lib\\site-packages\\pandas\\io\\parsers.py\u001b[0m in \u001b[0;36m_make_engine\u001b[1;34m(self, engine)\u001b[0m\n\u001b[0;32m   1048\u001b[0m             )\n\u001b[0;32m   1049\u001b[0m         \u001b[1;31m# error: Too many arguments for \"ParserBase\"\u001b[0m\u001b[1;33m\u001b[0m\u001b[1;33m\u001b[0m\u001b[1;33m\u001b[0m\u001b[0m\n\u001b[1;32m-> 1050\u001b[1;33m         \u001b[1;32mreturn\u001b[0m \u001b[0mmapping\u001b[0m\u001b[1;33m[\u001b[0m\u001b[0mengine\u001b[0m\u001b[1;33m]\u001b[0m\u001b[1;33m(\u001b[0m\u001b[0mself\u001b[0m\u001b[1;33m.\u001b[0m\u001b[0mf\u001b[0m\u001b[1;33m,\u001b[0m \u001b[1;33m**\u001b[0m\u001b[0mself\u001b[0m\u001b[1;33m.\u001b[0m\u001b[0moptions\u001b[0m\u001b[1;33m)\u001b[0m  \u001b[1;31m# type: ignore[call-arg]\u001b[0m\u001b[1;33m\u001b[0m\u001b[1;33m\u001b[0m\u001b[0m\n\u001b[0m\u001b[0;32m   1051\u001b[0m \u001b[1;33m\u001b[0m\u001b[0m\n\u001b[0;32m   1052\u001b[0m     \u001b[1;32mdef\u001b[0m \u001b[0m_failover_to_python\u001b[0m\u001b[1;33m(\u001b[0m\u001b[0mself\u001b[0m\u001b[1;33m)\u001b[0m\u001b[1;33m:\u001b[0m\u001b[1;33m\u001b[0m\u001b[1;33m\u001b[0m\u001b[0m\n",
      "\u001b[1;32mC:\\Anaconda\\lib\\site-packages\\pandas\\io\\parsers.py\u001b[0m in \u001b[0;36m__init__\u001b[1;34m(self, src, **kwds)\u001b[0m\n\u001b[0;32m   1865\u001b[0m \u001b[1;33m\u001b[0m\u001b[0m\n\u001b[0;32m   1866\u001b[0m         \u001b[1;31m# open handles\u001b[0m\u001b[1;33m\u001b[0m\u001b[1;33m\u001b[0m\u001b[1;33m\u001b[0m\u001b[0m\n\u001b[1;32m-> 1867\u001b[1;33m         \u001b[0mself\u001b[0m\u001b[1;33m.\u001b[0m\u001b[0m_open_handles\u001b[0m\u001b[1;33m(\u001b[0m\u001b[0msrc\u001b[0m\u001b[1;33m,\u001b[0m \u001b[0mkwds\u001b[0m\u001b[1;33m)\u001b[0m\u001b[1;33m\u001b[0m\u001b[1;33m\u001b[0m\u001b[0m\n\u001b[0m\u001b[0;32m   1868\u001b[0m         \u001b[1;32massert\u001b[0m \u001b[0mself\u001b[0m\u001b[1;33m.\u001b[0m\u001b[0mhandles\u001b[0m \u001b[1;32mis\u001b[0m \u001b[1;32mnot\u001b[0m \u001b[1;32mNone\u001b[0m\u001b[1;33m\u001b[0m\u001b[1;33m\u001b[0m\u001b[0m\n\u001b[0;32m   1869\u001b[0m         \u001b[1;32mfor\u001b[0m \u001b[0mkey\u001b[0m \u001b[1;32min\u001b[0m \u001b[1;33m(\u001b[0m\u001b[1;34m\"storage_options\"\u001b[0m\u001b[1;33m,\u001b[0m \u001b[1;34m\"encoding\"\u001b[0m\u001b[1;33m,\u001b[0m \u001b[1;34m\"memory_map\"\u001b[0m\u001b[1;33m,\u001b[0m \u001b[1;34m\"compression\"\u001b[0m\u001b[1;33m)\u001b[0m\u001b[1;33m:\u001b[0m\u001b[1;33m\u001b[0m\u001b[1;33m\u001b[0m\u001b[0m\n",
      "\u001b[1;32mC:\\Anaconda\\lib\\site-packages\\pandas\\io\\parsers.py\u001b[0m in \u001b[0;36m_open_handles\u001b[1;34m(self, src, kwds)\u001b[0m\n\u001b[0;32m   1360\u001b[0m         \u001b[0mLet\u001b[0m \u001b[0mthe\u001b[0m \u001b[0mreaders\u001b[0m \u001b[0mopen\u001b[0m \u001b[0mIOHanldes\u001b[0m \u001b[0mafter\u001b[0m \u001b[0mthey\u001b[0m \u001b[0mare\u001b[0m \u001b[0mdone\u001b[0m \u001b[1;32mwith\u001b[0m \u001b[0mtheir\u001b[0m \u001b[0mpotential\u001b[0m \u001b[0mraises\u001b[0m\u001b[1;33m.\u001b[0m\u001b[1;33m\u001b[0m\u001b[1;33m\u001b[0m\u001b[0m\n\u001b[0;32m   1361\u001b[0m         \"\"\"\n\u001b[1;32m-> 1362\u001b[1;33m         self.handles = get_handle(\n\u001b[0m\u001b[0;32m   1363\u001b[0m             \u001b[0msrc\u001b[0m\u001b[1;33m,\u001b[0m\u001b[1;33m\u001b[0m\u001b[1;33m\u001b[0m\u001b[0m\n\u001b[0;32m   1364\u001b[0m             \u001b[1;34m\"r\"\u001b[0m\u001b[1;33m,\u001b[0m\u001b[1;33m\u001b[0m\u001b[1;33m\u001b[0m\u001b[0m\n",
      "\u001b[1;32mC:\\Anaconda\\lib\\site-packages\\pandas\\io\\common.py\u001b[0m in \u001b[0;36mget_handle\u001b[1;34m(path_or_buf, mode, encoding, compression, memory_map, is_text, errors, storage_options)\u001b[0m\n\u001b[0;32m    640\u001b[0m                 \u001b[0merrors\u001b[0m \u001b[1;33m=\u001b[0m \u001b[1;34m\"replace\"\u001b[0m\u001b[1;33m\u001b[0m\u001b[1;33m\u001b[0m\u001b[0m\n\u001b[0;32m    641\u001b[0m             \u001b[1;31m# Encoding\u001b[0m\u001b[1;33m\u001b[0m\u001b[1;33m\u001b[0m\u001b[1;33m\u001b[0m\u001b[0m\n\u001b[1;32m--> 642\u001b[1;33m             handle = open(\n\u001b[0m\u001b[0;32m    643\u001b[0m                 \u001b[0mhandle\u001b[0m\u001b[1;33m,\u001b[0m\u001b[1;33m\u001b[0m\u001b[1;33m\u001b[0m\u001b[0m\n\u001b[0;32m    644\u001b[0m                 \u001b[0mioargs\u001b[0m\u001b[1;33m.\u001b[0m\u001b[0mmode\u001b[0m\u001b[1;33m,\u001b[0m\u001b[1;33m\u001b[0m\u001b[1;33m\u001b[0m\u001b[0m\n",
      "\u001b[1;31mFileNotFoundError\u001b[0m: [Errno 2] No such file or directory: 'data/seattle2014.csv'"
     ]
    }
   ],
   "source": [
    "#Use panda to extract rainfall inches as a Numoy array 강수량 히스토그램\n",
    "\n",
    "rainfall = pd.read_csv('data/seattle2014.csv')['PRCP'].values #csv 파일 필요\n",
    "inches = rainfall / 254.0 #1/10mm -> inches\n",
    "inches.shape\n",
    "print(inches)"
   ]
  },
  {
   "cell_type": "code",
   "execution_count": 10,
   "id": "4bd4f6a2-5691-414f-a8f5-84e04cfa50e3",
   "metadata": {},
   "outputs": [],
   "source": [
    "%matplotlib inline\n",
    "import matplotlib.pyplot as plt\n",
    "import seaborn; seaborn.set() #st plot styles\n",
    "%config INlineBackend.figure_format = 'svg'"
   ]
  },
  {
   "cell_type": "code",
   "execution_count": 12,
   "id": "b224312f-dc83-4842-a6df-37db35933e7c",
   "metadata": {},
   "outputs": [
    {
     "ename": "AttributeError",
     "evalue": "module 'matplotlib.pyplot' has no attribute 'his'",
     "output_type": "error",
     "traceback": [
      "\u001b[1;31m---------------------------------------------------------------------------\u001b[0m",
      "\u001b[1;31mAttributeError\u001b[0m                            Traceback (most recent call last)",
      "\u001b[1;32m<ipython-input-12-cf021a34cb82>\u001b[0m in \u001b[0;36m<module>\u001b[1;34m\u001b[0m\n\u001b[1;32m----> 1\u001b[1;33m \u001b[0mplt\u001b[0m\u001b[1;33m.\u001b[0m\u001b[0mhis\u001b[0m\u001b[1;33m(\u001b[0m\u001b[0minches\u001b[0m\u001b[1;33m,\u001b[0m \u001b[1;36m40\u001b[0m\u001b[1;33m)\u001b[0m\u001b[1;33m;\u001b[0m\u001b[1;33m\u001b[0m\u001b[1;33m\u001b[0m\u001b[0m\n\u001b[0m",
      "\u001b[1;31mAttributeError\u001b[0m: module 'matplotlib.pyplot' has no attribute 'his'"
     ]
    }
   ],
   "source": [
    "plt.his(inches, 40);"
   ]
  },
  {
   "cell_type": "code",
   "execution_count": 53,
   "id": "9d99ba3e-36fc-4329-a181-8c0aa099150f",
   "metadata": {},
   "outputs": [
    {
     "name": "stdout",
     "output_type": "stream",
     "text": [
      "[[5 0 3 3]\n",
      " [7 9 3 5]\n",
      " [2 4 7 6]]\n",
      "[[ True  True  True  True]\n",
      " [False False  True  True]\n",
      " [ True  True False False]]\n"
     ]
    }
   ],
   "source": [
    "#bool masking for multi-dimensional arrays\n",
    "\n",
    "np.random.seed(0) #seed값을 줘서 고정...\n",
    "x = np.random.randint(10, size = (3, 4))\n",
    "print(x)\n",
    "\n",
    "print(x < 6)"
   ]
  },
  {
   "cell_type": "code",
   "execution_count": 54,
   "id": "df11951f-8fca-407d-994a-9b6270d8cc86",
   "metadata": {},
   "outputs": [
    {
     "name": "stdout",
     "output_type": "stream",
     "text": [
      "[[5 0 3 3]\n",
      " [7 9 3 5]\n",
      " [2 4 7 6]]\n",
      "8\n",
      "8\n",
      "True\n",
      "False\n"
     ]
    }
   ],
   "source": [
    "\"\"\"\n",
    "Boolean Logic\n",
    "부울 배열을 이용한 연산 ex. 원소 개수 세기\n",
    "\"\"\"\n",
    "\n",
    "#boolean의 정수 표현 : True = 1, False = 0\n",
    "print(x)\n",
    "print(np.count_nonzero(x < 6)) # x가 6보다 작은 값이 몇 개인지\n",
    "print(np.sum(x < 6)) #위와 똑같은 결과 나옴 원소 갯수 세는 것\n",
    "\n",
    "print(np.any(x > 8)) #8보다 큰 수가 '하나라도 있는가?'\n",
    "print(np.all(x > 1)) #'모든 값'이 1보다 큰가?"
   ]
  },
  {
   "cell_type": "code",
   "execution_count": 55,
   "id": "58c3cea0-167f-4936-9421-b00872817ac6",
   "metadata": {},
   "outputs": [
    {
     "name": "stdout",
     "output_type": "stream",
     "text": [
      "[[5 0 3 3]\n",
      " [7 9 3 5]\n",
      " [2 4 7 6]]\n",
      "[[False  True  True  True]\n",
      " [False False  True False]\n",
      " [ True  True False False]]\n",
      "[0 3 3 3 2 4]\n"
     ]
    }
   ],
   "source": [
    "\"\"\"\n",
    "Masking Opration\n",
    "마스킹 연산 : 부울 배열을 마스크로 사용해 True를 만족하는 값들을 선택\n",
    "결과가 스칼라 값이 거나 불리언 값이었지만, 원본 배열의 부분집합을 얻어냄\n",
    "\"\"\"\n",
    "print(x)\n",
    "print(x < 5)\n",
    "print(x[x < 5]) #위에는 트루인지 폴스인지만 나오지만 대괄호를 통해 부분집합을 추출\n"
   ]
  },
  {
   "cell_type": "code",
   "execution_count": 56,
   "id": "fb9a8a1c-9789-4d22-b097-98e4e81f7466",
   "metadata": {},
   "outputs": [
    {
     "name": "stdout",
     "output_type": "stream",
     "text": [
      "[37 12 72  9 75  5 79 64 16  1]\n",
      "72 75 79\n",
      "[72 75 79]\n",
      "[[8 8 6 2 8]\n",
      " [7 2 1 5 4]\n",
      " [4 5 7 3 6]]\n"
     ]
    },
    {
     "data": {
      "text/plain": [
       "array([8, 5, 7])"
      ]
     },
     "execution_count": 56,
     "metadata": {},
     "output_type": "execute_result"
    }
   ],
   "source": [
    "\"\"\"\n",
    "Fancy Indexing\n",
    ": '한번에' 여러 배열 원소에 접근\n",
    "지금까지 배운 배열 원소 접근 방법\n",
    "- 인덱싱 x[0], 슬라이싱x[2:7], 마스킹 연산x[x > 0]\n",
    "\"\"\"\n",
    "\n",
    "np.random.seed(1)\n",
    "hehe = np.random.randint(100, size = 10) #0~99까지의 수 중 10개 뽑\n",
    "print(hehe)\n",
    "\n",
    "#기본 문법으로 hehe에서 70대 정수 값 선택하기 \n",
    "a = hehe[2]; b = hehe[4]; c = hehe[6]\n",
    "print(a, b, c)\n",
    "\n",
    "#팬시 인덱싱으로 hehe에서 70대 정수 값 선택하기\n",
    "ind = [2, 4, 6] #한번에 여러 배열의 원소를 가져옴! 짱이다\n",
    "print(hehe[ind])\n",
    "\n",
    "\n",
    "\"\"\"\n",
    "다차원 배열에 대한 팬시 인덱싱\n",
    "row(행) = [0, 1, 2]\n",
    "col(열) = [2, 1, 4]\n",
    "==> 0,2에 해당하는 거, 1, 1에 해당하는 거, 2, 4에 해당하는 거 세 개 나옴\n",
    "\"\"\"\n",
    "\n",
    "np.random.seed(2)\n",
    "fan = np.random.randint(10, size = (3, 5))\n",
    "print(fan)\n",
    "\n",
    "row = [0, 1, 2] #한번에 여러 원소 가져오고\n",
    "col = [1, 3, 2] #한번에 여러 원소 가져오고\n",
    "\n",
    "fan[row, col] #row가 앞이니 행이 되고 col이 뒤에있으니 열이 되어 각각에 해당하는"
   ]
  },
  {
   "cell_type": "code",
   "execution_count": 62,
   "id": "3b762b4e-8a92-4ffc-868a-d77a6f252cd6",
   "metadata": {},
   "outputs": [
    {
     "name": "stdout",
     "output_type": "stream",
     "text": [
      "[[5 0 3 3]\n",
      " [7 9 3 5]\n",
      " [2 4 7 6]]\n",
      "\n",
      "[3 9 6]\n",
      "\n",
      "[[3 0 3]\n",
      " [3 9 5]\n",
      " [7 4 6]]\n"
     ]
    }
   ],
   "source": [
    "\"\"\"\n",
    "For n-D arrays with broadcasting\n",
    "다차원 배열에 대한 팬시 인덱싱 + 브로드캐스팅 = 다차원배열\n",
    "\"\"\"\n",
    "\n",
    "print(x)\n",
    "row = np.array([0, 1, 2])\n",
    "col = np.array([2, 1, 3])\n",
    "\n",
    "print()\n",
    "print(x[row, col]) #row col로 각각 가져오지만\n",
    "\n",
    "print()\n",
    "print(x[row[:, np.newaxis], col]) #row 값을 2차원 배열로? 만들어 주고 2차원 배열과 1차원배열 간의 브로드 캐스팅 발생해서 결국 2차원 배열 형태의 원소들이 "
   ]
  },
  {
   "cell_type": "code",
   "execution_count": 69,
   "id": "83a61449-1aac-48e8-82d3-8ae4dbf51596",
   "metadata": {},
   "outputs": [
    {
     "name": "stdout",
     "output_type": "stream",
     "text": [
      "[[ 1  2  3  4]\n",
      " [ 5  6  7  8]\n",
      " [ 9 10 11 12]]\n",
      "\n",
      "[11  9 10]\n",
      "\n",
      "[[ 7  5  6]\n",
      " [11  9 10]]\n"
     ]
    }
   ],
   "source": [
    "\"\"\"\n",
    "결합 인덱싱\n",
    "\"\"\"\n",
    "\n",
    "x = np.arange(1, 13).reshape(3, 4) #1부터 13까지 3행 4열로\n",
    "print(x)\n",
    "\n",
    "#기본 인덱싱 + 팬시 인덱싱\n",
    "print()\n",
    "print(x[2, [2, 0, 1]]) #두 번째 행에서 열 2에 있는거 0에 있는거 1에 있는 거\n",
    "\n",
    "\n",
    "# 슬라이싱 + 팬시 인덱싱\n",
    "print()\n",
    "print(x[1:, [2, 0, 1]]) #1행 부터 끝행까지 그리고 2열에 있는 거 0열에 있는 거 1 열에 있는 거\n"
   ]
  },
  {
   "cell_type": "code",
   "execution_count": 75,
   "id": "29d38566-2847-43a2-8016-7a6a2f0021a9",
   "metadata": {},
   "outputs": [
    {
     "name": "stdout",
     "output_type": "stream",
     "text": [
      "[[-1.26659039e+00 -3.71998007e+00]\n",
      " [ 8.98574387e-01  1.00797760e+00]\n",
      " [ 8.12283322e-02 -2.29506499e+00]\n",
      " [-1.32069461e+00 -4.01236325e+00]\n",
      " [-1.99323780e-01 -7.51126722e-01]\n",
      " [-5.62429879e-01 -3.58770608e+00]\n",
      " [ 4.44845894e-01  6.58255553e-01]\n",
      " [-6.26556217e-01 -2.70315425e+00]\n",
      " [ 4.95244764e-01  2.45439522e-01]\n",
      " [-2.62034143e-01 -1.77174030e-03]\n",
      " [ 5.78772733e-01  2.63632100e+00]\n",
      " [-1.02525747e+00 -1.93129454e+00]\n",
      " [-5.70631049e-01 -2.11768692e+00]\n",
      " [ 4.71639223e-01  1.25768272e-01]\n",
      " [ 4.45380634e-02  6.81577017e-01]\n",
      " [ 7.90842213e-01  1.47981907e+00]\n",
      " [ 9.58310989e-01  1.39872339e+00]\n",
      " [ 6.24997094e-01  1.49516840e+00]\n",
      " [ 9.42553159e-01  2.52925434e+00]\n",
      " [-1.81742527e+00 -3.58446991e+00]\n",
      " [ 5.16913839e-01  2.87177733e-01]\n",
      " [ 4.26099193e-02  1.93476910e+00]\n",
      " [ 1.96827436e-01 -2.14295655e-01]\n",
      " [-9.80115753e-01 -9.29089657e-02]\n",
      " [-3.47205801e-01 -1.70173123e-01]\n",
      " [-1.42521035e-01 -7.25348701e-01]\n",
      " [ 1.18923685e+00  2.49294590e+00]\n",
      " [-3.14978696e-02  5.58913783e-01]\n",
      " [-1.13143694e+00 -1.72371279e+00]\n",
      " [-6.02577143e-01 -4.96680020e-01]\n",
      " [ 2.17520931e-01  1.88123670e+00]\n",
      " [-3.59810173e-01 -1.19131196e+00]\n",
      " [-4.22411874e-01 -1.10159071e+00]\n",
      " [-1.62709795e+00 -2.28312406e+00]\n",
      " [-1.48479237e+00 -5.09616263e+00]\n",
      " [ 1.52723792e+00  3.14104857e+00]\n",
      " [-4.83150303e-01 -2.18069608e-01]\n",
      " [ 4.82254235e-01 -1.02455011e+00]\n",
      " [-3.39565581e-02  8.14214912e-01]\n",
      " [-5.04188871e-01 -3.92424651e-01]\n",
      " [ 2.82231207e-01  4.64067441e-01]\n",
      " [-3.29280222e-01 -3.51116074e-01]\n",
      " [-2.28747690e-01 -4.23431745e-01]\n",
      " [ 4.75123754e-01  1.55572231e+00]\n",
      " [-5.44782958e-01 -9.26778324e-02]\n",
      " [-1.17851198e+00 -2.64476775e+00]\n",
      " [ 5.91149629e-01  7.35804640e-01]\n",
      " [-4.20854529e-01 -9.32320424e-01]\n",
      " [ 3.00995578e-01  7.73856505e-01]\n",
      " [ 3.05680795e-01  1.49352315e+00]\n",
      " [-5.55058820e-02  1.19139454e+00]\n",
      " [-5.99930336e-01 -8.05875190e-01]\n",
      " [ 9.46746793e-01  2.46898717e+00]\n",
      " [-3.19219528e-01 -1.80294221e+00]\n",
      " [ 2.33472782e-01  5.98954888e-01]\n",
      " [ 1.14798871e+00  3.11261598e+00]\n",
      " [-4.52827993e-01 -2.02355683e+00]\n",
      " [ 1.78326865e-01 -9.89886193e-01]\n",
      " [ 6.54079300e-01 -1.69812278e-01]\n",
      " [-1.19253433e+00 -2.43644180e+00]\n",
      " [ 3.19384611e-01 -6.79662317e-02]\n",
      " [-1.92957428e+00 -2.52922881e+00]\n",
      " [ 1.24349192e+00  4.34006937e+00]\n",
      " [-1.63310469e+00 -3.57680227e+00]\n",
      " [ 7.77591240e-01  2.81174955e+00]\n",
      " [ 3.98258983e-01  3.07803261e-01]\n",
      " [ 9.25743957e-01  2.83084111e+00]\n",
      " [-4.93843157e-01 -1.86714765e+00]\n",
      " [-4.30293322e-02 -1.34250819e+00]\n",
      " [-7.58643529e-01 -1.78112342e+00]\n",
      " [ 2.11304453e-01  4.00005138e-01]\n",
      " [-1.08991624e+00 -1.81905086e+00]\n",
      " [-5.41858148e-01 -1.15911457e+00]\n",
      " [-3.08541228e-01 -7.55544459e-02]\n",
      " [-4.75998080e-01 -4.10372701e-01]\n",
      " [ 1.21828261e+00  3.05745001e-01]\n",
      " [-1.79666967e+00 -1.97037456e+00]\n",
      " [-3.69439827e-01 -1.00031388e+00]\n",
      " [ 1.71618571e-01  2.85460558e-01]\n",
      " [ 4.13293782e-01 -2.16684866e-01]\n",
      " [ 8.59278635e-01  9.95308072e-01]\n",
      " [-1.16340799e-01 -6.01953603e-01]\n",
      " [-3.90659602e-01 -1.13223305e+00]\n",
      " [-9.92970779e-01 -2.16611609e+00]\n",
      " [-1.29823673e+00 -5.18682700e+00]\n",
      " [ 2.52688990e-01  1.58580757e+00]\n",
      " [-2.24071996e+00 -5.67869687e+00]\n",
      " [ 4.62618221e-02 -1.33274853e-01]\n",
      " [-1.12015802e+00 -3.01528046e+00]\n",
      " [-5.05919832e-01 -1.56754928e+00]\n",
      " [ 1.05570147e+00  2.88807041e+00]\n",
      " [-9.59778270e-01 -9.17332107e-01]\n",
      " [ 3.38293981e-01  1.48486034e-01]\n",
      " [-6.12049556e-01 -1.21704639e+00]\n",
      " [-2.31321700e-01 -6.37596605e-01]\n",
      " [-1.21341180e+00 -2.52949918e+00]\n",
      " [-2.18485819e+00 -4.07211516e+00]\n",
      " [ 1.39110726e-02 -1.72794227e+00]\n",
      " [-7.17305491e-01 -1.27681847e+00]\n",
      " [-1.14891234e+00 -1.64322377e+00]]\n",
      "(100, 2)\n"
     ]
    },
    {
     "data": {
      "image/png": "[encoded data removed]",
      "text/plain": [
       "<Figure size 432x288 with 1 Axes>"
      ]
     },
     "metadata": {},
     "output_type": "display_data"
    }
   ],
   "source": [
    "\"\"\"\n",
    "과제 될 뻔 했던 거\n",
    "예제 : 팬시 인덱싱을 통한 임의의 점 집합 선택!\n",
    "Selecting Random Points\n",
    "\"\"\"\n",
    "\n",
    "mean = [0, 0]\n",
    "cov = [[1,2],\n",
    "   [2, 5]]\n",
    "\n",
    "rand = np.random.RandomState(1) #seed 값 역할과 비슷\n",
    "x = rand.multivariate_normal(mean, cov, 100) #점 100개 생성\n",
    "print(x) #100, 2 크기의 값 생성\n",
    "print(x.shape) #shpae으로 100, 2 크기인 것 알 수 0\n",
    "\n",
    "plt.scatter(x[:, 0], x[:, 1]); #생성한 100개의 점에 대해 시각화"
   ]
  },
  {
   "cell_type": "code",
   "execution_count": 90,
   "id": "f6ea0b4e-7a2c-4e39-a13e-514c9ce077f9",
   "metadata": {},
   "outputs": [
    {
     "name": "stdout",
     "output_type": "stream",
     "text": [
      "[43 72 35 10 45 32 12 70 99 67 97 47 26 95 60 44 15 14 63 65]\n",
      "[[ 0.47512375  1.55572231]\n",
      " [-0.54185815 -1.15911457]\n",
      " [ 1.52723792  3.14104857]\n",
      " [ 0.57877273  2.636321  ]\n",
      " [-1.17851198 -2.64476775]\n",
      " [-0.42241187 -1.10159071]\n",
      " [-0.57063105 -2.11768692]\n",
      " [ 0.21130445  0.40000514]\n",
      " [-1.14891234 -1.64322377]\n",
      " [-0.49384316 -1.86714765]\n",
      " [ 0.01391107 -1.72794227]\n",
      " [-0.42085453 -0.93232042]\n",
      " [ 1.18923685  2.4929459 ]\n",
      " [-1.2134118  -2.52949918]\n",
      " [ 0.31938461 -0.06796623]\n",
      " [-0.54478296 -0.09267783]\n",
      " [ 0.79084221  1.47981907]\n",
      " [ 0.04453806  0.68157702]\n",
      " [-1.63310469 -3.57680227]\n",
      " [ 0.39825898  0.30780326]]\n",
      "(20, 2)\n"
     ]
    },
    {
     "data": {
      "image/png": "[encoded data removed]",
      "text/plain": [
       "<Figure size 432x288 with 1 Axes>"
      ]
     },
     "metadata": {},
     "output_type": "display_data"
    }
   ],
   "source": [
    "#점에 대한 인덱스를 만들어 냄\n",
    "ind = np.random.choice(x.shape[0], 20, replace = False) # x 쉐입은 100이니 x쉐입의 0번째로 접근 하면 100이라는 값 출력되고 그중에 20개를 랜덤으로 뽑겠다, replace =false는 중복 방지\n",
    "print(ind)\n",
    "\n",
    "selected = x[ind] #선택된 점들을 넣어줌\n",
    "print(selected)\n",
    "print(selected.shape) #당연 20개를 뽑았으니 20, 2가 나옴\n",
    "\n",
    "plt.scatter(x[:, 0], x[:, 1], alpha = 0.3) #원본 배열을 투명하게\n",
    "plt.scatter(selected[:, 0], selected[:, 1], facecolor = 'red', s = 50);\n",
    "# 선택된 점들은 selected에 있으니.. 그것들을 빨간 점으로 나타냄. s = 50은 점의 크기"
   ]
  },
  {
   "cell_type": "code",
   "execution_count": null,
   "id": "c6970e50-aa0f-4f11-a102-f0923964f765",
   "metadata": {},
   "outputs": [],
   "source": [
    "\"\"\"\n",
    "결론\n",
    "\"\"\"\n",
    "\n",
    "# Numpy : '수치연산에 최적화'된 라이브러리 - 벡터화된 연산 : 코드 실행 속도 증가 및 메모리 절약\n",
    "\n",
    "# 브로드캐스팅 : 다른 크기의 배열간 연산 가능 - 유니버설 함수를 더 쉽게 사용\n",
    "\n",
    "# 마스킹 연산 : 부울 배열을 이용한 배열 원소 접근\n",
    "\n",
    "# 팬시 인덱싱 : 인덱스 배열을 이용한 배열 원소 접근"
   ]
  }
 ],
 "metadata": {
  "kernelspec": {
   "display_name": "Python 3",
   "language": "python",
   "name": "python3"
  },
  "language_info": {
   "codemirror_mode": {
    "name": "ipython",
    "version": 3
   },
   "file_extension": ".py",
   "mimetype": "text/x-python",
   "name": "python",
   "nbconvert_exporter": "python",
   "pygments_lexer": "ipython3",
   "version": "3.8.8"
  }
 },
 "nbformat": 4,
 "nbformat_minor": 5
}
