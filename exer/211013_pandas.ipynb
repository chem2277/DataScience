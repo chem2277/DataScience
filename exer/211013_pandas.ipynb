{
 "cells": [
  {
   "cell_type": "code",
   "execution_count": 2,
   "id": "56e6de96-cb1f-4cc2-b72e-ac36bb6da144",
   "metadata": {},
   "outputs": [
    {
     "name": "stdout",
     "output_type": "stream",
     "text": [
      "Requirement already satisfied: pandas in c:\\anaconda\\lib\\site-packages (1.2.4)\n",
      "Requirement already satisfied: pytz>=2017.3 in c:\\anaconda\\lib\\site-packages (from pandas) (2021.1)\n",
      "Requirement already satisfied: python-dateutil>=2.7.3 in c:\\anaconda\\lib\\site-packages (from pandas) (2.8.1)\n",
      "Requirement already satisfied: numpy>=1.16.5 in c:\\anaconda\\lib\\site-packages (from pandas) (1.19.5)\n",
      "Requirement already satisfied: six>=1.5 in c:\\anaconda\\lib\\site-packages (from python-dateutil>=2.7.3->pandas) (1.15.0)\n",
      "Note: you may need to restart the kernel to use updated packages.\n"
     ]
    }
   ],
   "source": [
    "pip install pandas"
   ]
  },
  {
   "cell_type": "code",
   "execution_count": 4,
   "id": "465f4a17-e2a7-41cc-a9ce-442f4124b785",
   "metadata": {},
   "outputs": [],
   "source": [
    "import pandas as pd"
   ]
  },
  {
   "cell_type": "code",
   "execution_count": 7,
   "id": "ad1a842e-1aba-43ba-8f3f-3ef6c90a9b34",
   "metadata": {},
   "outputs": [
    {
     "data": {
      "text/plain": [
       "'1.2.4'"
      ]
     },
     "execution_count": 7,
     "metadata": {},
     "output_type": "execute_result"
    }
   ],
   "source": [
    "pd.__version__"
   ]
  },
  {
   "cell_type": "code",
   "execution_count": 15,
   "id": "950554f4-97ad-4fff-abd1-a9a54d5e5314",
   "metadata": {},
   "outputs": [
    {
     "name": "stdout",
     "output_type": "stream",
     "text": [
      "0    0.25\n",
      "1    0.50\n",
      "2    0.75\n",
      "3    1.00\n",
      "dtype: float64\n",
      "[0.25 0.5  0.75 1.  ]\n",
      "RangeIndex(start=0, stop=4, step=1)\n",
      "<class 'pandas.core.series.Series'>\n",
      "(4,)\n",
      "RangeIndex(start=0, stop=4, step=1)\n"
     ]
    }
   ],
   "source": [
    "ser = pd.Series([0.25, 0.5 ,0.75, 1.0]) #객체를 생성하는 메서드\n",
    "print(ser)\n",
    "\n",
    "arr = ser.values #Pandas 객체의 값들을 NumPy 배열로 반환\n",
    "print(arr)\n",
    "\n",
    "ind = ser.index #Index 값을 반환\n",
    "print(ind)\n",
    "\n",
    "print(type(ser))\n",
    "print(ser.shape)\n",
    "print(ser.index)"
   ]
  },
  {
   "cell_type": "code",
   "execution_count": 24,
   "id": "3115d0b6-ce59-4b18-ab8a-2f1abed6f850",
   "metadata": {},
   "outputs": [
    {
     "name": "stdout",
     "output_type": "stream",
     "text": [
      "a    0.25\n",
      "b    0.50\n",
      "c    0.75\n",
      "d    1.00\n",
      "dtype: float64\n"
     ]
    }
   ],
   "source": [
    "\"\"\"\n",
    "Label-based Indexing\n",
    "Numpy(ndarray) : 정수형 인덱스(암묵적)\n",
    "Pandas(series, dataframe) : 레이블 기반 인덱스(명시적)\n",
    "\"\"\"\n",
    "\n",
    "ser = pd.Series([0.25, 0.5, 0.75, 1.0], index = ['a', 'b', 'c', 'd'])\n",
    "print(ser)"
   ]
  },
  {
   "cell_type": "code",
   "execution_count": 26,
   "id": "2c3d06b3-d3d7-40da-b77e-0d7ad94367cc",
   "metadata": {},
   "outputs": [
    {
     "name": "stdout",
     "output_type": "stream",
     "text": [
      "{'a': 1, 2: 'two', 'third': True}\n"
     ]
    }
   ],
   "source": [
    "\"\"\"\n",
    "Ditionary and Series\n",
    "딕셔너리 : <Key : Value>로 구성되는 파이썬 기본 자료구조\n",
    "시리즈 : Key 역할을 하는 레이블 기반 인덱스 사용\n",
    "- 가능한 인덱스 유형 : 정수, 실수, 문자열, DataTime 등\n",
    "- 인덱싱, 슬라이싱을 지원하므로 딕셔너리 보다 데이터 조작 쉬움\n",
    "\"\"\"\n",
    "\n",
    "dict = {'a':1, 2 : 'two', 'third' : True} #a는 1로 정의 2는 two로 정의, third는 True로 정의\n",
    "print(dict)\n"
   ]
  },
  {
   "cell_type": "code",
   "execution_count": 43,
   "id": "b491f95b-fc84-4e19-86ce-124d89524b83",
   "metadata": {},
   "outputs": [
    {
     "name": "stdout",
     "output_type": "stream",
     "text": [
      "{'California': 38332521, 'Texas': 26448193, 'New York': 19651127, 'Florida': 19552860, 'Illinois': 12882135}\n",
      "California    38332521\n",
      "Texas         26448193\n",
      "New York      19651127\n",
      "Florida       19552860\n",
      "Illinois      12882135\n",
      "dtype: int64\n",
      "{'California': 423967, 'Texas': 695662, 'New York': 141297, 'Florida': 170312, 'Illinois': 149995}\n",
      "California    423967\n",
      "Texas         695662\n",
      "New York      141297\n",
      "Florida       170312\n",
      "Illinois      149995\n",
      "dtype: int64\n",
      "            population    area\n",
      "California    38332521  423967\n",
      "Texas         26448193  695662\n",
      "New York      19651127  141297\n",
      "Florida       19552860  170312\n",
      "Illinois      12882135  149995\n",
      "Index(['California', 'Texas', 'New York', 'Florida', 'Illinois'], dtype='object')\n",
      "Index(['population', 'area'], dtype='object')\n"
     ]
    }
   ],
   "source": [
    "\"\"\"\n",
    "Creating a Series Object from a Dictionary\n",
    "\"\"\"\n",
    "population_dict = {'California': 38332521,\n",
    "'Texas': 26448193,\n",
    "\"New York\": 19651127,\n",
    "'Florida': 19552860,\n",
    "'Illinois': 12882135}\n",
    "population = pd.Series(population_dict) #딕셔너리로 부터 시리즈 객체 생성\n",
    "\n",
    "print(population_dict) #딕셔너리\n",
    "print(population) #딕셔너리를 시리즈로 바꾼 걸 프린트\n",
    "\n",
    "\n",
    "\n",
    "area_dict = {'California': 423967,'Texas': 695662, 'New York': 141297,\n",
    "'Florida': 170312, 'Illinois': 149995} #딕셔너리로 정의\n",
    "area = pd.Series(area_dict) #시리즈로 바꿈\n",
    "\n",
    "print(area_dict)\n",
    "print(area)\n",
    "\n",
    "#두 시리즈 객체(population, area)를 포함하는 2차원 배열 'DataFrame' 객체 생성\n",
    "states = pd.DataFrame({'population': population, 'area': area})\n",
    "print(states)\n",
    "print(states.index) #index 속성을 통한 인덱스 레이블 접근 그러니까 캘리포니아 텍사스 등등\n",
    "print(states.columns) #데이터 프레름 열 레이블 접근 그러니까 파퓰레이션과 아레아 나오고"
   ]
  },
  {
   "cell_type": "code",
   "execution_count": 45,
   "id": "5758c515-984f-4a52-842c-f3e9d3677ce6",
   "metadata": {},
   "outputs": [],
   "source": [
    "import numpy as np"
   ]
  },
  {
   "cell_type": "code",
   "execution_count": 51,
   "id": "2e175334-a54e-46d2-96f8-cee077edd22b",
   "metadata": {},
   "outputs": [
    {
     "name": "stdout",
     "output_type": "stream",
     "text": [
      "[[0.11082412 0.91169596]\n",
      " [0.17569329 0.21849034]\n",
      " [0.32200464 0.45976776]] \n",
      "\n",
      "          0         1\n",
      "0  0.110824  0.911696\n",
      "1  0.175693  0.218490\n",
      "2  0.322005  0.459768\n",
      "                 foo       bar\n",
      "2021-10-13  0.110824  0.911696\n",
      "2021-10-14  0.175693  0.218490\n",
      "2021-10-15  0.322005  0.459768\n"
     ]
    }
   ],
   "source": [
    "arr = np.random.rand(3, 2) #넘파이로 3행 2열을 랜덤으로 가져옴\n",
    "print(arr, '\\n')\n",
    "\n",
    "df = pd.DataFrame(arr) #넘파이 2차원배열로 부터 데이터프레임 생성\n",
    "print(df)\n",
    "\n",
    "df = pd.DataFrame(arr, columns = ['foo', 'bar'], index = ['2021-10-13', '2021-10-14', '2021-10-15']) #컬럼과 인덱스 정의 해줌\n",
    "print(df)"
   ]
  },
  {
   "cell_type": "code",
   "execution_count": 55,
   "id": "6db98958-bbc1-4fa2-9df9-e910fc3783bf",
   "metadata": {},
   "outputs": [
    {
     "name": "stdout",
     "output_type": "stream",
     "text": [
      "a    0.25\n",
      "b    0.50\n",
      "c    0.75\n",
      "d    1.00\n",
      "dtype: float64\n",
      "a    0.125\n",
      "b    0.500\n",
      "c    0.750\n",
      "d    1.000\n",
      "e    1.250\n",
      "dtype: float64\n"
     ]
    }
   ],
   "source": [
    "\"\"\"\n",
    "Data Manipulation : Seires\n",
    "데이터 조작!\n",
    "\"\"\"\n",
    "ser = pd.Series([0.25, 0.5 ,0.75, 1.0],\n",
    "               index = ['a', 'b', 'c', 'd']) #객체를 생성하는 메서드\n",
    "print(ser)\n",
    "\n",
    "ser['e'] = 1.25 #'e'가 없었지만 'e'라는 인덱스가 생성되어 1.25라는 value가 생성\n",
    "ser['a'] = 0.125 #a의 값을 수정\n",
    "print(ser)"
   ]
  },
  {
   "cell_type": "code",
   "execution_count": 80,
   "id": "945c9c35-2f3c-4699-82fe-12579071d5e7",
   "metadata": {},
   "outputs": [
    {
     "name": "stdout",
     "output_type": "stream",
     "text": [
      "a    0.125\n",
      "b    0.500\n",
      "c    0.750\n",
      "dtype: float64\n",
      "a    0.125\n",
      "b    0.500\n",
      "dtype: float64\n",
      "b    0.50\n",
      "c    0.75\n",
      "dtype: float64\n",
      "a    0.125\n",
      "e    1.250\n",
      "dtype: float64\n"
     ]
    }
   ],
   "source": [
    "#슬라이싱. 명시적 이넥싱은 마지막 값이 포함됨. 하지만 암묵적 인덱싱은 안 포함됨.\n",
    "print(ser['a' : 'c'])\n",
    "\n",
    "# 암묵적 인덱싱은 안 들어감\n",
    "print(ser[0 : 2])\n",
    "\n",
    "\n",
    "#마스킹\n",
    "print(ser[(ser > 0.3) & (ser < 0.8)])\n",
    "\n",
    "#팬시 인덱싱\n",
    "print(ser[['a', 'e']])\n"
   ]
  },
  {
   "cell_type": "code",
   "execution_count": 65,
   "id": "1e574487-39a0-45dc-95e4-157361228558",
   "metadata": {},
   "outputs": [
    {
     "name": "stdout",
     "output_type": "stream",
     "text": [
      "            population    area     density\n",
      "California    38332521  423967   90.413926\n",
      "Texas         26448193  695662   38.018740\n",
      "New York      19651127  141297  139.076746\n",
      "Florida       19552860  170312  114.806121\n",
      "Illinois      12882135  149995   85.883763\n"
     ]
    }
   ],
   "source": [
    "#states의 덴시티라는 인덱스에 새로운 컬럼이 추가\n",
    "states['density'] = states['population']/states['area'] \n",
    "print(states)"
   ]
  },
  {
   "cell_type": "code",
   "execution_count": 87,
   "id": "2edc294d-2bd8-41dd-ac33-0d44a6c67756",
   "metadata": {},
   "outputs": [
    {
     "name": "stdout",
     "output_type": "stream",
     "text": [
      "population    1.965113e+07\n",
      "area          1.412970e+05\n",
      "density       1.390767e+02\n",
      "Name: New York, dtype: float64\n",
      "population    2.644819e+07\n",
      "area          6.956620e+05\n",
      "density       3.801874e+01\n",
      "Name: Texas, dtype: float64\n",
      "          population     density\n",
      "New York    19651127  139.076746\n",
      "Florida     19552860  114.806121\n",
      "            population    area     density\n",
      "California    38332521  423967   90.000000\n",
      "Texas         26448193  695662   38.018740\n",
      "New York      19651127  141297  139.076746\n",
      "Florida       19552860  170312  114.806121\n",
      "Illinois      12882135  149995   85.883763\n"
     ]
    }
   ],
   "source": [
    "\"\"\"\n",
    "Indexers\n",
    "인덱서 : 판다스 객체의 명확한 인덱싱/슬라이싱을 지원하는 속성\n",
    "- 주요 속성 :loc, iloc\n",
    "\"\"\"\n",
    "\n",
    "#loc : 명시적 인덱스를 참조하는 인덱싱/슬라이싱 수행\n",
    "print(states.loc['New York']) #뉴욕에 해당하는 인덱스 값을 얻어옴\n",
    "\n",
    "#iloc : 암묵적 인덱스를 참조하는 인덱싱/슬라이싱 수행\n",
    "print(states.iloc[1]) # 1에 해당하는 즉, 텍사스 값을 가져옴\n",
    "\n",
    "\n",
    "\n",
    "# loc 인덱서 : 마스킹 + 팬시 인덱싱 지원\n",
    "print(states.loc[states.density > 100, ['population', 'density']])\n",
    "\n",
    "\n",
    "#DataFrame 값 수정\n",
    "states.iloc[0, 2] = 90 #첫번째 행의 3번째 열 값을 90으로 바꿈\n",
    "print(states)"
   ]
  }
 ],
 "metadata": {
  "kernelspec": {
   "display_name": "Python 3",
   "language": "python",
   "name": "python3"
  },
  "language_info": {
   "codemirror_mode": {
    "name": "ipython",
    "version": 3
   },
   "file_extension": ".py",
   "mimetype": "text/x-python",
   "name": "python",
   "nbconvert_exporter": "python",
   "pygments_lexer": "ipython3",
   "version": "3.8.8"
  }
 },
 "nbformat": 4,
 "nbformat_minor": 5
}
