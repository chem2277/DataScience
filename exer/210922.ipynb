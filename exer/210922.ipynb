{
 "cells": [
  {
   "cell_type": "code",
   "execution_count": 30,
   "id": "6db2597c-90b9-43ef-b0cc-1099847bf3f7",
   "metadata": {},
   "outputs": [
    {
     "name": "stdout",
     "output_type": "stream",
     "text": [
      "1\n",
      "2\n",
      "3\n",
      "\n",
      "0\n",
      "1\n",
      "2\n",
      "3\n",
      "4\n",
      "asdf\n",
      "asdf\n",
      "asdf\n"
     ]
    }
   ],
   "source": [
    "\"\"\"\n",
    "Loop Statements(반복문)\n",
    "- for, while 키워드를 통해 반복문 작성\n",
    "\"\"\"\n",
    "\n",
    "#for Loops : '리스트'의 아이템마다 반복문을 실행\n",
    "\n",
    "nums =[1, 2, 3]\n",
    "\n",
    "for num in nums:\n",
    "    print(num) #들여쓰기 안하면 에러 발생하므로 '들여쓰기' 하기\n",
    "    \n",
    "\n",
    "# range(n) => n번 만큼 반복하고 싶을 때\n",
    "print() #건너뛰기 용\n",
    "for i in range(5): # create(0, 1, 2...m ,n-1) 파이썬은 제로 인덱싱이라서 0번부터 시작\n",
    "    print(i)\n",
    "    \n",
    "for asdfg in range(3):\n",
    "    print(\"asdf\")"
   ]
  },
  {
   "cell_type": "code",
   "execution_count": 29,
   "id": "a943baa8-c935-480f-a08c-344bc12f0997",
   "metadata": {},
   "outputs": [
    {
     "name": "stdout",
     "output_type": "stream",
     "text": [
      "1\n",
      "2\n",
      "3\n",
      "6\n",
      "stage1is complete.\n",
      "stage2is complete.\n",
      "stage3is complete.\n",
      "Game Over..\n"
     ]
    }
   ],
   "source": [
    "\"\"\"\n",
    "Continue Keyword : 남은 코드를 건너뛰고 다음 반복 시작\n",
    "Breake Keyword : 반복문 종료\n",
    "\"\"\"\n",
    "\n",
    "\n",
    "# continue\n",
    "nums = [1, 2, -1, 3, -4, -5, 6]\n",
    "\n",
    "for num in nums:\n",
    "    # If num is negative, we skip it\n",
    "    if num < 0:\n",
    "        continue\n",
    "    print(num)\n",
    "    \n",
    "\n",
    "#break\n",
    "\n",
    "game_plays = ['stage1', 'stage2', 'stage3', 'gameover', 'stage4', 'stage5']\n",
    "for play in game_plays:\n",
    "    if play == 'gameover':\n",
    "        print(\"Game Over..\")\n",
    "        break #gameover를 만났기에 끝\n",
    "    print(play + \"is complete.\") "
   ]
  },
  {
   "cell_type": "code",
   "execution_count": 40,
   "id": "6d70ca51-2042-4b4c-8670-605b43badf77",
   "metadata": {},
   "outputs": [
    {
     "name": "stdout",
     "output_type": "stream",
     "text": [
      "[1, 2, 3, 4, 5, 6, 7, 8, 9, 10]\n",
      "감독님한테 혼날 사람 : \n",
      "['해리 케인', '탕기 은돔벨레']\n",
      "억대 연봉 받을 사람 : \n",
      "['손흥민']\n"
     ]
    }
   ],
   "source": [
    "\"\"\"\n",
    "List Comprehension : for 문을 이용한 리스트 생성\n",
    "- 사용법 : result = [expression for item in list]\n",
    "- 조건 정의 가능\n",
    "\"\"\"\n",
    "\n",
    "one_to_ten = [i + 1 for i in range(10)] #0부터 시작하는 것에 1을 더해주니 1부터 시작\n",
    "print(one_to_ten)\n",
    "\n",
    "\n",
    "#조건 정의 : for문 뒤에 if문 붙음\n",
    "\n",
    "hotspurs = [['손흥민', 'A+'], ['해리 케인', 'F'], ['탕기 은돔벨레', 'F'], ['델리 알리', 'B'], ['루카스 모우라', 'B+'], ['이메르송', 'D']] \n",
    "#2차원 리스트의 아이템은 서브리스트가 각각의 아이템 \n",
    "\n",
    "poors = [player[0] for player in hotspurs if player[1] == 'F'] #0번째는 선수 이름, 1번째 즉 평가 점수. 그러니 F인 선수를 가져 오겠다\n",
    "print(\"감독님한테 혼날 사람 : \")\n",
    "print(poors)\n",
    "\n",
    "best = [player[0] for player in hotspurs if player[1] == 'A+']\n",
    "print(\"억대 연봉 받을 사람 : \")\n",
    "print(best)"
   ]
  },
  {
   "cell_type": "code",
   "execution_count": 42,
   "id": "f37565ce-003d-4c1b-ad76-3b5eb5058a77",
   "metadata": {},
   "outputs": [
    {
     "name": "stdout",
     "output_type": "stream",
     "text": [
      "1 X 1 = 1\n",
      "1 X 2 = 2\n",
      "1 X 3 = 3\n",
      "1 X 4 = 4\n",
      "1 X 5 = 5\n",
      "1 X 6 = 6\n",
      "1 X 7 = 7\n",
      "1 X 8 = 8\n",
      "1 X 9 = 9\n",
      "2 X 1 = 2\n",
      "2 X 2 = 4\n",
      "2 X 3 = 6\n",
      "2 X 4 = 8\n",
      "2 X 5 = 10\n",
      "2 X 6 = 12\n",
      "2 X 7 = 14\n",
      "2 X 8 = 16\n",
      "2 X 9 = 18\n",
      "3 X 1 = 3\n",
      "3 X 2 = 6\n",
      "3 X 3 = 9\n",
      "3 X 4 = 12\n",
      "3 X 5 = 15\n",
      "3 X 6 = 18\n",
      "3 X 7 = 21\n",
      "3 X 8 = 24\n",
      "3 X 9 = 27\n",
      "4 X 1 = 4\n",
      "4 X 2 = 8\n",
      "4 X 3 = 12\n",
      "4 X 4 = 16\n",
      "4 X 5 = 20\n",
      "4 X 6 = 24\n",
      "4 X 7 = 28\n",
      "4 X 8 = 32\n",
      "4 X 9 = 36\n",
      "5 X 1 = 5\n",
      "5 X 2 = 10\n",
      "5 X 3 = 15\n",
      "5 X 4 = 20\n",
      "5 X 5 = 25\n",
      "5 X 6 = 30\n",
      "5 X 7 = 35\n",
      "5 X 8 = 40\n",
      "5 X 9 = 45\n",
      "6 X 1 = 6\n",
      "6 X 2 = 12\n",
      "6 X 3 = 18\n",
      "6 X 4 = 24\n",
      "6 X 5 = 30\n",
      "6 X 6 = 36\n",
      "6 X 7 = 42\n",
      "6 X 8 = 48\n",
      "6 X 9 = 54\n",
      "7 X 1 = 7\n",
      "7 X 2 = 14\n",
      "7 X 3 = 21\n",
      "7 X 4 = 28\n",
      "7 X 5 = 35\n",
      "7 X 6 = 42\n",
      "7 X 7 = 49\n",
      "7 X 8 = 56\n",
      "7 X 9 = 63\n",
      "8 X 1 = 8\n",
      "8 X 2 = 16\n",
      "8 X 3 = 24\n",
      "8 X 4 = 32\n",
      "8 X 5 = 40\n",
      "8 X 6 = 48\n",
      "8 X 7 = 56\n",
      "8 X 8 = 64\n",
      "8 X 9 = 72\n",
      "9 X 1 = 9\n",
      "9 X 2 = 18\n",
      "9 X 3 = 27\n",
      "9 X 4 = 36\n",
      "9 X 5 = 45\n",
      "9 X 6 = 54\n",
      "9 X 7 = 63\n",
      "9 X 8 = 72\n",
      "9 X 9 = 81\n"
     ]
    }
   ],
   "source": [
    "\"\"\"\n",
    "Nested Loops : 중첩된 루프. 반복문 안에 또 다른 반복문 작성 가능\n",
    "- 구구단\n",
    "\"\"\"\n",
    "\n",
    "one_to_nine = [i + 1 for i in range(9)] #파이썬은 제로 인덱싱이니 1부터 시작하게 하려면 1을 더해야겠쥬\n",
    "\n",
    "for i in one_to_nine:\n",
    "    for j in one_to_nine:\n",
    "        print(\"%d X %d = %d\" % (i, j, i*j))"
   ]
  },
  {
   "cell_type": "code",
   "execution_count": 52,
   "id": "ea3f40e6-4914-437c-8f84-5ea782e64239",
   "metadata": {},
   "outputs": [
    {
     "name": "stdout",
     "output_type": "stream",
     "text": [
      "참치김밥 냠냠\n",
      "순대 냠냠\n",
      "로제떡볶이 냠냠\n",
      "김말이 냠냠\n",
      "배부르다.. 여기까지\n"
     ]
    }
   ],
   "source": [
    "\"\"\"\n",
    "while Loops : '조건식'이 True일 때 반복문을 실행 즉, for문과 달리 조건식이 들어감(for 문은 물론 리프리헨션에 들어가긴 하지만.. 리스트 중심 반복 수행)\n",
    "\"\"\"\n",
    "\n",
    "hungry = True\n",
    "foods_on_table = ['참치김밥', '순대', '로제떡볶이', '김말이', '오뎅', '단무지', '고로케']\n",
    "foods_num = 7 # 음식 수\n",
    "ate_num = 0 #먹은 음식 수\n",
    "\n",
    "while ate_num < 4: # ate_num이 4보다 작으면 실행인데 ate_num이 0이므로 True => 실행\n",
    "    print(foods_on_table[ate_num] + \" 냠냠\")\n",
    "    ate_num += 1 #while 반복문이 처음에 True여서 실행되면 참치김밥 먹으면 ate_num에 1이 하나씩 추가 그러다가 4까지 되면 그때부터는 False이므로 멈춤\n",
    "    \n",
    "#while문이 종료됐으니 아래 print가 실행.. 만약 종료 조건이 없으면 '무한 루프'\n",
    "print(\"배부르다.. 여기까지\")"
   ]
  }
 ],
 "metadata": {
  "kernelspec": {
   "display_name": "Python 3",
   "language": "python",
   "name": "python3"
  },
  "language_info": {
   "codemirror_mode": {
    "name": "ipython",
    "version": 3
   },
   "file_extension": ".py",
   "mimetype": "text/x-python",
   "name": "python",
   "nbconvert_exporter": "python",
   "pygments_lexer": "ipython3",
   "version": "3.8.8"
  }
 },
 "nbformat": 4,
 "nbformat_minor": 5
}
