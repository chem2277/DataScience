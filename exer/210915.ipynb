{
 "cells": [
  {
   "cell_type": "code",
   "execution_count": null,
   "id": "56a1344a-82ca-4f2c-9945-f0bfa1a14ecd",
   "metadata": {},
   "outputs": [],
   "source": [
    "\"\"\"\n",
    "Boolean\n",
    "- True 또는 False의 값을 가짐\n",
    "- 조건문의 결과로서 프로그램의 제어흐름을 결정\n",
    "\"\"\"\n",
    "\n",
    "is_tested = True\n",
    "\n",
    "print(type(is_tested))\n",
    "\n",
    "is_loolulala = False\n",
    "type(is_loolulala)"
   ]
  },
  {
   "cell_type": "code",
   "execution_count": 15,
   "id": "481582a7-9506-4289-b4eb-5907263d55c1",
   "metadata": {},
   "outputs": [
    {
     "data": {
      "text/plain": [
       "True"
      ]
     },
     "execution_count": 15,
     "metadata": {},
     "output_type": "execute_result"
    }
   ],
   "source": [
    "a = 2\n",
    "b = 5\n",
    "\n",
    "a <= b"
   ]
  },
  {
   "cell_type": "code",
   "execution_count": 25,
   "id": "39ce3c47-3c24-47ff-a9b4-3a9d89c923a5",
   "metadata": {},
   "outputs": [
    {
     "name": "stdout",
     "output_type": "stream",
     "text": [
      "True\n",
      "True\n",
      "False\n"
     ]
    }
   ],
   "source": [
    "#1\n",
    "print(\"yes\" == 'yes')\n",
    "      \n",
    "#2\n",
    "print((2 > 1) == (5 < 10))\n",
    "      \n",
    "#3\n",
    "c = '2' #str\n",
    "d = 2 #int\n",
    "print(c == d) #데이터 타입이 다르므로 binary code가 다름. 숫자 2는 10으로 표시가 가능하지만, 문자 2는 이에 해당하는 ASCI 코드"
   ]
  },
  {
   "cell_type": "code",
   "execution_count": 27,
   "id": "165dcb79-fcd1-41aa-b22f-3e4428acdc9f",
   "metadata": {},
   "outputs": [
    {
     "name": "stdout",
     "output_type": "stream",
     "text": [
      "True\n",
      "True\n",
      "True\n"
     ]
    }
   ],
   "source": [
    "#1\n",
    "print(\"yes\" != 'No')\n",
    "\n",
    "#2\n",
    "val1 = 10\n",
    "val2 = 20\n",
    "print(val1 != val2)\n",
    "\n",
    "#3\n",
    "print((10 > 1) != (10 > 1000))"
   ]
  },
  {
   "cell_type": "code",
   "execution_count": 37,
   "id": "9d8caa77-0477-401e-8d5c-2d3a973b81bb",
   "metadata": {},
   "outputs": [
    {
     "data": {
      "text/plain": [
       "True"
      ]
     },
     "execution_count": 37,
     "metadata": {},
     "output_type": "execute_result"
    }
   ],
   "source": [
    "\"\"\"\n",
    "OR 연산\n",
    "- True : A, B 중 한 개 이상이 True면 T\n",
    "- False : 모두 False인 경우\n",
    "\"\"\"\n",
    "\n",
    "#1\n",
    "True or True #T\n",
    "\n",
    "#2\n",
    "True or False #T \n",
    "\n",
    "#3\n",
    "False or False #F\n",
    "\n",
    "#4\n",
    "1 < 2 or 3 < 1 #T\n",
    "\n",
    "#5\n",
    "3 < 1 or 1 > 6 #F\n",
    "\n",
    "#6\n",
    "1 == 1 or 1 < 2 #T\n",
    "\n",
    "\n",
    "#하나라도 True가 나오면 True, 둘 다 False면 False"
   ]
  },
  {
   "cell_type": "code",
   "execution_count": 39,
   "id": "c19b5c5d-c4e5-4466-afb8-ecb9b13d0855",
   "metadata": {},
   "outputs": [
    {
     "data": {
      "text/plain": [
       "False"
      ]
     },
     "execution_count": 39,
     "metadata": {},
     "output_type": "execute_result"
    }
   ],
   "source": [
    "\"\"\"\n",
    "AND 연산\n",
    "- True : A, B 모두 True\n",
    "- False : 하나라도 False인 경우 False\n",
    "\"\"\"\n",
    "\n",
    "True and True #T\n",
    "True and False #F\n",
    "False and False #F\n",
    "1 == 1 and 1 < 2 #T\n",
    "1 < 2 and 3 < 1 #F"
   ]
  },
  {
   "cell_type": "code",
   "execution_count": 41,
   "id": "75a77d43-851a-4b3c-9635-4428a2a4f40f",
   "metadata": {},
   "outputs": [
    {
     "data": {
      "text/plain": [
       "False"
      ]
     },
     "execution_count": 41,
     "metadata": {},
     "output_type": "execute_result"
    }
   ],
   "source": [
    "\"\"\"\n",
    "NOT 연산\n",
    "- True : A가 False인 경우\n",
    "- False : A가 True인 경우\n",
    "\"\"\"\n",
    "\n",
    "not True #F\n",
    "not False #T\n",
    "not 1 > 2 #T\n",
    "not 1 == 1 #F"
   ]
  },
  {
   "cell_type": "code",
   "execution_count": 59,
   "id": "c60206df-1f6f-4cf1-8813-cacbf837bcff",
   "metadata": {},
   "outputs": [
    {
     "name": "stdout",
     "output_type": "stream",
     "text": [
      "False\n"
     ]
    }
   ],
   "source": [
    "\"\"\"\n",
    "제어문에 조건문, 반복문, 기타 제어문이 있음\n",
    "조건문에는 if/elif/else가 있음\n",
    "\n",
    "if문 = 표현식이 True일 때 코드를 실행함\n",
    "\"\"\"\n",
    "\n",
    "puppy = \"poodle\"\n",
    "is_yes = False\n",
    "\n",
    "if puppy == \"maltese\" :\n",
    "    is_yes = True #puppy는 poodle인데 if문에서는 puppy를 maltese라고 했기에 True가 아니므로 if문 다음에 있는 is_yes 코드가 아닌 위에 is_yes로 실행되는 것\n",
    "\n",
    "print(is_yes)"
   ]
  },
  {
   "cell_type": "code",
   "execution_count": 67,
   "id": "5100a6f9-fa69-4003-9675-1c52da94676b",
   "metadata": {},
   "outputs": [
    {
     "name": "stdout",
     "output_type": "stream",
     "text": [
      "아 시고르자브종이구나!\n",
      "False\n"
     ]
    }
   ],
   "source": [
    "\"\"\"\n",
    "elif문 : if문이 False 일 때 검사 (여러 개 중첩 가능)\n",
    "else문 : if와 elif무 모두 False일 때 실행\n",
    "\"\"\"\n",
    "\n",
    "puppy = \"sigoljabjong\"\n",
    "\n",
    "\n",
    "if puppy == 'maltese' :\n",
    "    is_yes = True\n",
    "\n",
    "elif puppy == 'poodle' : \n",
    "    is_yes = True\n",
    "\n",
    "elif puppy == \"pome\" :\n",
    "    is_yes = True\n",
    "    \n",
    "else :\n",
    "    print(\"아 시고르자브종이구나!\")\n",
    "    is_yes = False\n",
    "    \n",
    "print(is_yes)"
   ]
  },
  {
   "cell_type": "code",
   "execution_count": 68,
   "id": "c1c08620-a6f4-4349-ae34-ad72ec2246f5",
   "metadata": {},
   "outputs": [
    {
     "name": "stdout",
     "output_type": "stream",
     "text": [
      "[ERROR] : y is not declared\n",
      "continue..\n"
     ]
    }
   ],
   "source": [
    "\"\"\"\n",
    "프로그래밍 과정에서 에러 피할 수 없음\n",
    ": 에러 시 에러 메시지와 함께 프로그램 종료\n",
    "\n",
    "솔루션?\n",
    "- try 문 : 에러 발생 여부를 검사\n",
    "- except 문 : try문에서 에러 발생 시 실행(예외처리 코드)\n",
    "\n",
    "try문과 except문의 장점\n",
    "- 에러 핸들링\n",
    "- 프로그램 종료 없이 다음 코드 실행\n",
    "\"\"\"\n",
    "\n",
    "x = 1\n",
    "try :\n",
    "    print(y)\n",
    "    print(x) # be skipped 위에 y를 선언하지 않아 에러가 났으므로 그 다음은 스킵되고 실행되지 않음\n",
    "except :\n",
    "    print(\"[ERROR] : y is not declared\")\n",
    "    \n",
    "print('continue..')"
   ]
  },
  {
   "cell_type": "code",
   "execution_count": null,
   "id": "3e3dc34a-78c9-4b91-8f36-2ac9fb55ab76",
   "metadata": {},
   "outputs": [],
   "source": []
  }
 ],
 "metadata": {
  "kernelspec": {
   "display_name": "Python 3",
   "language": "python",
   "name": "python3"
  },
  "language_info": {
   "codemirror_mode": {
    "name": "ipython",
    "version": 3
   },
   "file_extension": ".py",
   "mimetype": "text/x-python",
   "name": "python",
   "nbconvert_exporter": "python",
   "pygments_lexer": "ipython3",
   "version": "3.8.8"
  }
 },
 "nbformat": 4,
 "nbformat_minor": 5
}
