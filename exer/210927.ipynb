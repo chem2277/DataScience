{
 "cells": [
  {
   "cell_type": "code",
   "execution_count": 16,
   "id": "864225fa-99f8-43a5-a3d4-02208bb3e965",
   "metadata": {},
   "outputs": [
    {
     "name": "stdout",
     "output_type": "stream",
     "text": [
      "2\n",
      "3\n",
      "2\n"
     ]
    }
   ],
   "source": [
    "\"\"\"\n",
    "Function vs Method\n",
    "\"\"\"\n",
    "\n",
    "# 함수 정의하고 호출하는 과정\n",
    "def my_function(x):\n",
    "    return x + 1\n",
    "\n",
    "result = my_function(1)\n",
    "print(result)\n",
    "\n",
    "y = 2\n",
    "result2 = my_function(y) #y에 따로 정의하고 y를 넣어도 됨\n",
    "print(result2)\n",
    "\n",
    "\n",
    "\n",
    "#Method\n",
    "\n",
    "x = 1\n",
    "\n",
    "class my_class:\n",
    "    def my_method(self):\n",
    "        return x + 1\n",
    "\n",
    "cls = my_class()\n",
    "print(cls.my_method())"
   ]
  },
  {
   "cell_type": "code",
   "execution_count": 55,
   "id": "f392fc2a-94a1-4b90-8975-c2d7427d3340",
   "metadata": {},
   "outputs": [
    {
     "name": "stdout",
     "output_type": "stream",
     "text": [
      "Hello everyone, my name is Haeun Lee, I was born in 1999, and I live in Seong Nam.\n"
     ]
    }
   ],
   "source": [
    "\"\"\"\n",
    "Parameters\n",
    "\"\"\"\n",
    "\n",
    "def introduce_myself(name, birthyear, city):\n",
    "    print(\"Hello everyone, my name is %s, I was born in %d, and I live in %s.\" % (name, birthyear, city))\n",
    "    \n",
    "introduce_myself(\"Haeun Lee\", 1999, \"Seong Nam\")\n"
   ]
  },
  {
   "cell_type": "code",
   "execution_count": 23,
   "id": "e95bad6f-c2c7-4fde-a009-592d8944af34",
   "metadata": {},
   "outputs": [
    {
     "name": "stdout",
     "output_type": "stream",
     "text": [
      "2021 is a leap year\n"
     ]
    }
   ],
   "source": [
    "\"\"\"\n",
    "Return Keyword\n",
    "\"\"\"\n",
    "\n",
    "# Leap year = 윤년(2월 29일까지 있는 년도)\n",
    "def check_leap_year(year):\n",
    "    if year % 4 -- 0:\n",
    "        return \"%d is a leap year\" % (year)\n",
    "    else:\n",
    "        return \"%d is not a leap year.\" % (year)\n",
    "    \n",
    "print(check_leap_year(2021))"
   ]
  },
  {
   "cell_type": "code",
   "execution_count": 27,
   "id": "c787c0ef-25e7-4c5d-bec5-50c65bc7f9a1",
   "metadata": {},
   "outputs": [
    {
     "name": "stdout",
     "output_type": "stream",
     "text": [
      "9 16 25\n"
     ]
    }
   ],
   "source": [
    "\"\"\"\n",
    "Returning Multiple Values\n",
    "\"\"\"\n",
    "\n",
    "def square_point(x, y, z):\n",
    "    x_squared = x ** 2\n",
    "    y_squared = y ** 2\n",
    "    z_squared = z ** 2\n",
    "    return x_squared, y_squared, z_squared\n",
    "\n",
    "three_squared, four_squared, five_squared = square_point(3, 4, 5)\n",
    "print(three_squared, four_squared, five_squared)"
   ]
  },
  {
   "cell_type": "code",
   "execution_count": 47,
   "id": "5f88f4f2-984c-4454-9eca-1054193a0250",
   "metadata": {},
   "outputs": [
    {
     "name": "stdout",
     "output_type": "stream",
     "text": [
      "Hello\n",
      "Hello\n",
      "3\n"
     ]
    },
    {
     "ename": "NameError",
     "evalue": "name 'b' is not defined",
     "output_type": "error",
     "traceback": [
      "\u001b[1;31m---------------------------------------------------------------------------\u001b[0m",
      "\u001b[1;31mNameError\u001b[0m                                 Traceback (most recent call last)",
      "\u001b[1;32m<ipython-input-47-3cc52154ac3b>\u001b[0m in \u001b[0;36m<module>\u001b[1;34m\u001b[0m\n\u001b[0;32m     24\u001b[0m \u001b[1;33m\u001b[0m\u001b[0m\n\u001b[0;32m     25\u001b[0m \u001b[0mf1\u001b[0m\u001b[1;33m(\u001b[0m\u001b[1;33m)\u001b[0m \u001b[1;31m#얘는 결과 나옴\u001b[0m\u001b[1;33m\u001b[0m\u001b[1;33m\u001b[0m\u001b[0m\n\u001b[1;32m---> 26\u001b[1;33m \u001b[0mprint\u001b[0m\u001b[1;33m(\u001b[0m\u001b[0mb\u001b[0m\u001b[1;33m)\u001b[0m \u001b[1;31m# 함수 안에서 정의해준 b기 때문에 함수 밖에서 하면 에러남\u001b[0m\u001b[1;33m\u001b[0m\u001b[1;33m\u001b[0m\u001b[0m\n\u001b[0m",
      "\u001b[1;31mNameError\u001b[0m: name 'b' is not defined"
     ]
    }
   ],
   "source": [
    "\"\"\"\n",
    "전역 변수와 지역 변수\n",
    "- 전역 변수는 함수 밖에서 정의\n",
    "- 지역 변수는 함수 안에서 정의된 변수로, 함수 밖에서 사용 불가\n",
    "\"\"\"\n",
    "\n",
    "#전역 변수(Global variable)\n",
    "\n",
    "a = \"Hello\" #함수 밖에서 정의한 함수\n",
    "\n",
    "def print_a():\n",
    "    print(a)\n",
    "    \n",
    "print_a()\n",
    "print(a) #함수 밖에서 정의했기 때문에 함수 밖에서 호출해도 결과 나옴\n",
    "\n",
    "    \n",
    "    \n",
    "#지역 변수(Local variable)\n",
    "\n",
    "def f1():\n",
    "    b = 3\n",
    "    print(b)\n",
    "    \n",
    "f1() #얘는 결과 나옴\n",
    "print(b) # 함수 안에서 정의해준 b기 때문에 함수 밖에서 하면 에러남"
   ]
  },
  {
   "cell_type": "code",
   "execution_count": 50,
   "id": "c117bf05-8c28-4b66-8790-650eba274b63",
   "metadata": {},
   "outputs": [
    {
     "name": "stdout",
     "output_type": "stream",
     "text": [
      "Height = 1\n",
      "Width = 2\n",
      "Depth =  3\n"
     ]
    }
   ],
   "source": [
    "\"\"\"\n",
    "Keyword Arguments and Default Values\n",
    "\"\"\"\n",
    "\n",
    "def findvolume(height, width, depth):\n",
    "    print(\"Height = \" + str(height)) # str() : 어떤 값을 문자열 값으로 변환\n",
    "    print(\"Width = \" + str(width))\n",
    "    print(\"Depth = \" , str(depth))\n",
    "    \n",
    "findvolume(1, 2, 3)"
   ]
  },
  {
   "cell_type": "code",
   "execution_count": null,
   "id": "ef3e6644-31af-4ae3-8ead-bb7464a767b1",
   "metadata": {},
   "outputs": [],
   "source": []
  }
 ],
 "metadata": {
  "kernelspec": {
   "display_name": "Python 3",
   "language": "python",
   "name": "python3"
  },
  "language_info": {
   "codemirror_mode": {
    "name": "ipython",
    "version": 3
   },
   "file_extension": ".py",
   "mimetype": "text/x-python",
   "name": "python",
   "nbconvert_exporter": "python",
   "pygments_lexer": "ipython3",
   "version": "3.8.8"
  }
 },
 "nbformat": 4,
 "nbformat_minor": 5
}
