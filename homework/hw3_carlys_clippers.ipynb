{
 "cells": [
  {
   "cell_type": "code",
   "execution_count": 20,
   "id": "2362831f-2033-4d20-be85-6ce5b90c7446",
   "metadata": {},
   "outputs": [
    {
     "name": "stdout",
     "output_type": "stream",
     "text": [
      "31.875\n",
      "[25, 20, 35, 15, 15, 30, 45, 30]\n",
      "1085\n",
      "155.0\n",
      "['bouffant', 'pixie', 'crew', 'bowl']\n"
     ]
    }
   ],
   "source": [
    "\"\"\"\n",
    "Carly's Clippers\n",
    "캘리의 미용실?.. 어려움 ㅜㅜ\n",
    "\"\"\"\n",
    "\n",
    "hairstyles = [\"bouffant\", \"pixie\", \"dreadlocks\", \"crew\", \"bowl\", \"bob\", \"mohawk\", \"flattop\"] #the names of the cuts offered at Carly’s Clippers.\n",
    "\n",
    "prices = [30, 25, 40, 20, 20, 35, 50, 35] #the price of each hairstyle in the hairstyles list.\n",
    "\n",
    "last_week = [2, 3, 5, 8, 4, 4, 6, 2] #the number of purchases for each hairstyle type in the last week.\n",
    "\n",
    "\n",
    "\n",
    "#Prices and Cuts\n",
    "total_price = 0\n",
    "\n",
    "for price in prices: #for문으로 prices의 아이템을 다 반복\n",
    "    total_price += price\n",
    "    average_price = total_price/len(prices)\n",
    "    \n",
    "print(average_price)\n",
    "\n",
    "\n",
    "\n",
    "# 모든 가격 5달러씩 깎기\n",
    "new_prices = [price -5 for price in  prices]\n",
    "print(new_prices)\n",
    "\n",
    "\n",
    "#Revenue\n",
    "total_revenue = 0\n",
    "for i in range(len(hairstyles)): #len으로 몇 개인지 수, range로 그 수 만큼 반복\n",
    "    total_revenue += prices[i]*last_week[i] #순서대로 곱하고 곱한 값 하나씩 차례대로 더해야 토탈 나옴\n",
    "print(total_revenue)\n",
    "\n",
    "average_daily_revenue = total_revenue / 7 #일주일이니께\n",
    "print(average_daily_revenue)\n",
    "\n",
    "\n",
    "\n",
    "cuts_under_30 = [hairstyles[i] for i in range(len(new_prices)-1) if new_prices[i] < 30] #30 under이랬으니까 30보다 작은 것들로만 이루어진..\n",
    "print(cuts_under_30)\n",
    "    "
   ]
  }
 ],
 "metadata": {
  "kernelspec": {
   "display_name": "Python 3",
   "language": "python",
   "name": "python3"
  },
  "language_info": {
   "codemirror_mode": {
    "name": "ipython",
    "version": 3
   },
   "file_extension": ".py",
   "mimetype": "text/x-python",
   "name": "python",
   "nbconvert_exporter": "python",
   "pygments_lexer": "ipython3",
   "version": "3.8.8"
  }
 },
 "nbformat": 4,
 "nbformat_minor": 5
}
