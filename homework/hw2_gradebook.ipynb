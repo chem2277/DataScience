{
 "cells": [
  {
   "cell_type": "code",
   "execution_count": 45,
   "id": "25f36b99-a16f-4483-8d91-9fe924569699",
   "metadata": {},
   "outputs": [
    {
     "name": "stdout",
     "output_type": "stream",
     "text": [
      "[['physics', 98], ['calculus', 97], ['poetry', 85], ['history', 88]]\n",
      "\n",
      "[['physics', 98], ['calculus', 97], ['poetry', 85], ['history', 88], [['computer science', 100]], [['visual arts', 93]]]\n",
      "\n",
      "[['physics', 98], ['calculus', 97], ['poetry', 'pass'], ['history', 88], [['computer science', 100]], ['visual arts', 98]]\n",
      "\n",
      "[['politics', 80], ['latin', 96], ['dance', 97], ['architecture', 65], ['physics', 98], ['calculus', 97], ['poetry', 'pass'], ['history', 88], [['computer science', 100]], ['visual arts', 98]]\n"
     ]
    }
   ],
   "source": [
    "\"\"\"\n",
    "Gradebook\n",
    "성적표 => 내 과목과 성적 정리\n",
    "\"\"\"\n",
    "\n",
    "#Create Some Lists\n",
    "\n",
    "subjects = [\"physics\", \"calculus\", \"poetry\", \"history\"]\n",
    "grades = [98, 97, 85, 88]\n",
    "gradebook =[[subjects[0], grades[0]], [subjects[1], grades[1]], [subjects[2], grades[2]], [subjects[3], grades[3]]]\n",
    "\n",
    "print(gradebook)\n",
    "\n",
    "# append => 과목 및 성적 추가\n",
    "print()\n",
    "\n",
    "subjects.append(\"computer science\")\n",
    "grades.append(100)\n",
    "gradebook.append([[subjects[4], grades[4]]])\n",
    "\n",
    "subjects.append(\"visual arts\")\n",
    "grades.append(93)\n",
    "gradebook.append([[subjects[5], grades[5]]])\n",
    "\n",
    "print(gradebook)\n",
    "\n",
    "#Modify The Gradebook : 비주얼 아트 5점 높이고 문학은 패스로 바꾸기\n",
    "print()\n",
    "grades[5] += 5\n",
    "gradebook.pop(5)\n",
    "gradebook.append([subjects[5], grades[5]])\n",
    "\n",
    "gradebook.remove(['poetry', 85])\n",
    "gradebook.insert(2, ['poetry', 'pass'])\n",
    "\n",
    "print(gradebook)\n",
    "\n",
    "\n",
    "\n",
    "# 지난 학기 성적표 추가\n",
    "print()\n",
    "last_semester_gradebook = [[\"politics\", 80], [\"latin\", 96], [\"dance\", 97], [\"architecture\", 65]]\n",
    "\n",
    "full_gradebook = last_semester_gradebook + gradebook\n",
    "print(full_gradebook)"
   ]
  },
  {
   "cell_type": "code",
   "execution_count": null,
   "id": "257c1ed3-faa4-46cf-98cc-375afbdb5ec7",
   "metadata": {},
   "outputs": [],
   "source": []
  }
 ],
 "metadata": {
  "kernelspec": {
   "display_name": "Python 3",
   "language": "python",
   "name": "python3"
  },
  "language_info": {
   "codemirror_mode": {
    "name": "ipython",
    "version": 3
   },
   "file_extension": ".py",
   "mimetype": "text/x-python",
   "name": "python",
   "nbconvert_exporter": "python",
   "pygments_lexer": "ipython3",
   "version": "3.8.8"
  }
 },
 "nbformat": 4,
 "nbformat_minor": 5
}
