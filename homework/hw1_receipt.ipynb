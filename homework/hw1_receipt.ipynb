{
 "cells": [
  {
   "cell_type": "code",
   "execution_count": 20,
   "id": "e2aa6b90-d310-43d0-b7df-22fc484980f8",
   "metadata": {},
   "outputs": [
    {
     "name": "stdout",
     "output_type": "stream",
     "text": [
      "Customer One Items :\n",
      " Lovely Loveseat. Tufted polyester blend on wood. 32 inches high x 40 inches wide x 30 inches deep. Red or white.Luxurious Lamp. Glass and iron. 36 inches tall. Brown with cream shade.\n",
      "Customer One Total :\n",
      "333.09119999999996\n"
     ]
    }
   ],
   "source": [
    "\"\"\"\n",
    "Adding in The Catalog\n",
    "장사를 하려면 상품에 가격과 설명은 필수겠지.. \n",
    "\"\"\"\n",
    "\n",
    "lovely_loveseat_description = \"Lovely Loveseat. Tufted polyester blend on wood. 32 inches high x 40 inches wide x 30 inches deep. Red or white.\" #러블리 러브시트에 대한 설명\n",
    "\n",
    "lovely_loveseat_price = 254.00 #러블리 러브시트의 가격\n",
    "\n",
    "stylish_settee_description = \"Stylish Settee. Faux leather on birch. 29.50 inches high x 54.75 inches wide x 28 inches deep. Black.\" #스타일리쉬 세트에 대한 설명\n",
    "\n",
    "stylish_settee_price = 180.50 #스타일리쉬 세트의 가격\n",
    "\n",
    "luxurious_lamp_description = \"Luxurious Lamp. Glass and iron. 36 inches tall. Brown with cream shade.\" #럭셔리 램프에 대한 설명\n",
    "\n",
    "luxurious_lamp_price = 52.15 #럭셔리 램프의 가격\n",
    "\n",
    "sales_tax = .088 #판매세 설정\n",
    "\n",
    "\n",
    "\"\"\"\n",
    "Our First Customer\n",
    "첫 구매자가 입성함\n",
    "\"\"\"\n",
    "\n",
    "customer_one_total = 0 #고객이 아직 아무것도 구매하지 않으므로 0원\n",
    "\n",
    "customer_one_itemization = \" \" #고객이 아직 아무것도 구매하지 않으므로 아무 설명이 없음\n",
    "\n",
    "customer_one_total += lovely_loveseat_price #고객이 러블리 러브시트 사기로 함. 러블리 러브시트에 대한 가격을 더해줌.\n",
    "\n",
    "customer_one_itemization += lovely_loveseat_description #고객에게 러블리 러브시트 설명을 추가해줌.\n",
    "\n",
    "customer_one_total += luxurious_lamp_price #고객이 추가로 럭셔리 램프도 구매하기로 함. 가격을 추가해줌.\n",
    "\n",
    "customer_one_itemization += luxurious_lamp_description #럭셔리 램프에 대한 설명도 추가함.\n",
    "\n",
    "customer_one_tax = customer_one_total * sales_tax #총 판매세 계산. 총 상품 곱하기 판매세.\n",
    "\n",
    "customer_one_total += customer_one_tax\n",
    "\n",
    "print(\"Customer One Items :\") \n",
    "print(customer_one_itemization) #각 상품 설명\n",
    "\n",
    "print(\"Customer One Total :\") \n",
    "print(customer_one_total) # 총 가격 인쇄\n",
    "\n"
   ]
  }
 ],
 "metadata": {
  "kernelspec": {
   "display_name": "Python 3",
   "language": "python",
   "name": "python3"
  },
  "language_info": {
   "codemirror_mode": {
    "name": "ipython",
    "version": 3
   },
   "file_extension": ".py",
   "mimetype": "text/x-python",
   "name": "python",
   "nbconvert_exporter": "python",
   "pygments_lexer": "ipython3",
   "version": "3.8.8"
  }
 },
 "nbformat": 4,
 "nbformat_minor": 5
}
